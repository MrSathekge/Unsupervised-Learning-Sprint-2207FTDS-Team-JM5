{
 "cells": [
  {
   "cell_type": "markdown",
   "id": "8139271f",
   "metadata": {},
   "source": [
    "# Challenge Description\n",
    "\n",
    "In today’s technology driven world, recommender systems are socially and economically critical for ensuring that individuals can make appropriate choices surrounding the content they engage with on a daily basis. One application where this is especially true surrounds movie content recommendations; where intelligent algorithms can help viewers find great titles from tens of thousands of options.\n",
    "\n",
    "…ever wondered how Netflix, Amazon Prime, Showmax, Disney and the likes somehow know what to recommend to you? \n",
    "\n",
    "<img src=\"imgs/header.png\" width=\"800\" />\n",
    "\n",
    "…it's not just a guess drawn out of the hat. There is an algorithm behind it.\n",
    "\n",
    "With this context, EDSA challenged us to construct a `recommendation algorithm` based on `content` or `collaborative filtering`, capable of accurately predicting how a user will `rate` a movie they have not yet viewed based on their historical preferences.\n",
    "\n",
    "**What value is achieved through building a functional recommender system?**\n",
    "\n",
    "Providing an accurate and robust solution to this challenge has immense economic potential, with users of the system being exposed to content they would like to view or purchase - generating revenue and platform affinity.\n",
    "<img src=\"imgs/recommendation-system.webp\" width=\"600\" />\n"
   ]
  },
  {
   "attachments": {},
   "cell_type": "markdown",
   "id": "9f97ecc7",
   "metadata": {},
   "source": [
    "# Dataset Description\n",
    "### Data Overview\n",
    "\n",
    "This dataset consists of several million 5-star ratings obtained from users of the online MovieLens movie recommendation service. The MovieLens dataset has long been used by industry and academic researchers to improve the performance of explicitly-based recommender systems, and now you get to as well!\n",
    "\n",
    "For this Predict, we'll be using a special version of the MovieLens dataset which has enriched with additional data, and resampled for fair evaluation purposes. \n",
    "\n",
    "### Source\n",
    "\n",
    "The data for the MovieLens dataset is maintained by the GroupLens research group in the Department of Computer Science and Engineering at the University of Minnesota. Additional movie content data was legally scraped from IMDB.\n",
    "\n",
    "### Supplied Files\n",
    "\n",
    "- genome_scores.csv - a score mapping the strength between movies and tag-related properties.\n",
    "- genome_tags.csv - user assigned tags for genome-related scores\n",
    "- imdb_data.csv - Additional movie metadata scraped from IMDB using the links.csv file.\n",
    "- links.csv - File providing a mapping between a MovieLens ID and associated IMDB and TMDB IDs.\n",
    "- sample_submission.csv - Sample of the submission format for the hackathon.\n",
    "- tags.csv - User assigned for the movies within the dataset.\n",
    "- test.csv - The test split of the dataset. Contains user and movie IDs with no rating data.\n",
    "- train.csv - The training split of the dataset. Contains user and movie IDs with associated rating data.\n",
    "\n",
    "### Project Objectives\n",
    "\n",
    "- To develop an efficient movie recommender system.\n",
    "- To compare contest-based and collaborating filtering in.\n",
    "- To create an unsupervised machine learning model with RSME lower than 0.85 on the test set.\n",
    "\n",
    "### Submission Format\n",
    "For every author in the dataset, submission files should contain two columns: Id and rating. Id is a `concatenation` of the userID and movieID given in the test file (using an _ character). rating is the predicted rating for a given user-movie pair\n",
    "\n",
    "The file should contain a header and have the following format:<br>\n",
    "`Id,rating` <br>\n",
    "`1_2011,1.0`\n",
    " "
   ]
  },
  {
   "attachments": {},
   "cell_type": "markdown",
   "id": "2b310925",
   "metadata": {},
   "source": [
    "<a id=\"cont\"></a>\n",
    "\n",
    "## Table of Contents\n",
    "\n",
    "<a href=#one>1. Loading Comet & Importing Packages</a>\n",
    "\n",
    "<a href=#two>2. Loading Data</a>\n",
    "\n",
    "<a href=#three>3. Exploratory Data Analysis (EDA)</a>\n",
    "\n",
    "<a href=#four>4. Data Engineering</a>\n",
    "\n",
    "<a href=#five>5. Modeling</a>\n",
    "\n",
    "<a href=#six>6. Model Performance</a>\n",
    "\n",
    "<a href=#seven>7. Conclusion</a>\n",
    "\n",
    "<a href=#eight>8. References</a>"
   ]
  },
  {
   "attachments": {},
   "cell_type": "markdown",
   "id": "d292fc5e",
   "metadata": {},
   "source": [
    " <a id=\"one\"></a>\n",
    "### 1. Connecting Comet\n",
    "<a href=#cont>Back to Table of Contents</a>\n",
    "\n",
    "---\n",
    "    \n",
    "| ⚡ Description: Loading Comet ⚡ |\n",
    "| :--------------------------- |\n",
    "| In this section you are required to import, and briefly discuss, the libraries that will be used to save the notebook version in comet. |"
   ]
  },
  {
   "cell_type": "code",
   "execution_count": null,
   "id": "9e951c18",
   "metadata": {},
   "outputs": [],
   "source": []
  },
  {
   "cell_type": "code",
   "execution_count": null,
   "id": "44641858",
   "metadata": {},
   "outputs": [],
   "source": []
  },
  {
   "cell_type": "markdown",
   "id": "0881dda3",
   "metadata": {},
   "source": [
    "###  Importing Packages\n",
    "<a href=#cont>Back to Table of Contents</a>\n",
    "\n",
    "---\n",
    "    \n",
    "| ⚡ Description: Importing Packages ⚡ |\n",
    "| :--------------------------- |\n",
    "| In this section you are required to import, and briefly discuss, the libraries that will be used throughout your analysis and modelling. |\n",
    "\n",
    "---"
   ]
  },
  {
   "cell_type": "code",
   "execution_count": 2,
   "id": "3d35be69",
   "metadata": {},
   "outputs": [
    {
     "data": {
      "text/html": [
       "        <script type=\"text/javascript\">\n",
       "        window.PlotlyConfig = {MathJaxConfig: 'local'};\n",
       "        if (window.MathJax) {MathJax.Hub.Config({SVG: {font: \"STIX-Web\"}});}\n",
       "        if (typeof require !== 'undefined') {\n",
       "        require.undef(\"plotly\");\n",
       "        requirejs.config({\n",
       "            paths: {\n",
       "                'plotly': ['https://cdn.plot.ly/plotly-2.9.0.min']\n",
       "            }\n",
       "        });\n",
       "        require(['plotly'], function(Plotly) {\n",
       "            window._Plotly = Plotly;\n",
       "        });\n",
       "        }\n",
       "        </script>\n",
       "        "
      ]
     },
     "metadata": {},
     "output_type": "display_data"
    }
   ],
   "source": [
    "import numpy as np\n",
    "import pandas as pd\n",
    "import matplotlib.pyplot as plt\n",
    "import seaborn as sns\n",
    "import geopandas as gpd\n",
    "import cufflinks as cf\n",
    "import re\n",
    "import scipy as sp\n",
    "import gc\n",
    "\n",
    "from sklearn.cluster import AgglomerativeClustering\n",
    "from sklearn.preprocessing import StandardScaler\n",
    "from matplotlib.colors import ListedColormap\n",
    "from matplotlib import offsetbox\n",
    "%matplotlib inline\n",
    "from wordcloud import WordCloud, STOPWORDS\n",
    "\n",
    "from sklearn import preprocessing\n",
    "from sklearn.decomposition import PCA\n",
    "from sklearn.model_selection import train_test_split\n",
    "\n",
    "import surprise    # Run \"!pip install surprise\" on new cell to download\n",
    "from surprise import Reader\n",
    "from surprise import Dataset\n",
    "from surprise.model_selection import train_test_split\n",
    "from surprise import SVD\n",
    "from surprise import SVDpp\n",
    "from surprise import accuracy\n",
    "import plotly.express as px\n",
    "from surprise.model_selection import cross_validate\n",
    "from surprise import NormalPredictor\n",
    "from surprise import KNNBasic\n",
    "from surprise import KNNWithMeans\n",
    "from surprise import KNNWithZScore\n",
    "from surprise import KNNBaseline\n",
    "from surprise import BaselineOnly\n",
    "from surprise import NMF\n",
    "from surprise import SlopeOne\n",
    "from surprise import CoClustering\n",
    "from surprise.accuracy import rmse\n",
    "\n",
    "from sklearn.cluster import KMeans\n",
    "from sklearn.mixture import GaussianMixture\n",
    "from scipy.cluster.hierarchy import ward, dendrogram\n",
    "import scipy.cluster.hierarchy as sch\n",
    "\n",
    "from sklearn import (manifold, datasets, decomposition, ensemble,\n",
    "                     discriminant_analysis, random_projection, preprocessing)\n",
    "\n",
    "from time import time    # Import time to measure algorithm runtime\n",
    "\n",
    "# Entity featurization and similarity computation\n",
    "from sklearn.metrics.pairwise import cosine_similarity \n",
    "from sklearn.feature_extraction.text import TfidfVectorizer\n",
    "\n",
    "from sklearn.metrics import mean_squared_error\n",
    "\n",
    "# Libraries used during sorting procedures.\n",
    "import operator # <-- Convienient item retrieval during iteration \n",
    "import heapq # <-- Efficient sorting of large lists\n",
    " \n",
    "sns.set(style='whitegrid', palette='muted',\n",
    "        rc={'figure.figsize': (15,10)})\n",
    "\n",
    "from plotly.offline import download_plotlyjs, init_notebook_mode, plot, iplot\n",
    "init_notebook_mode(connected=True)\n",
    "\n",
    "# Imported for our sanity\n",
    "import warnings\n",
    "warnings.filterwarnings('ignore')"
   ]
  },
  {
   "cell_type": "markdown",
   "id": "612f44be",
   "metadata": {},
   "source": [
    "<a id=\"two\"></a>\n",
    "## 2. Loading the Data\n",
    "<a class=\"anchor\" id=\"1.1\"></a>\n",
    "<a href=#cont>Back to Table of Contents</a>\n",
    "\n",
    "---\n",
    "    \n",
    "| ⚡ Description: Loading the data ⚡ |\n",
    "| :--------------------------- |\n",
    "| In this section you are required to load the data from the files into DataFrames. |\n",
    "\n",
    "---"
   ]
  },
  {
   "cell_type": "code",
   "execution_count": 3,
   "id": "66c7da30",
   "metadata": {},
   "outputs": [
    {
     "data": {
      "text/html": [
       "<div>\n",
       "<style scoped>\n",
       "    .dataframe tbody tr th:only-of-type {\n",
       "        vertical-align: middle;\n",
       "    }\n",
       "\n",
       "    .dataframe tbody tr th {\n",
       "        vertical-align: top;\n",
       "    }\n",
       "\n",
       "    .dataframe thead th {\n",
       "        text-align: right;\n",
       "    }\n",
       "</style>\n",
       "<table border=\"1\" class=\"dataframe\">\n",
       "  <thead>\n",
       "    <tr style=\"text-align: right;\">\n",
       "      <th></th>\n",
       "      <th>movieId</th>\n",
       "      <th>title</th>\n",
       "      <th>genres</th>\n",
       "    </tr>\n",
       "  </thead>\n",
       "  <tbody>\n",
       "    <tr>\n",
       "      <th>0</th>\n",
       "      <td>1</td>\n",
       "      <td>Toy Story (1995)</td>\n",
       "      <td>Adventure|Animation|Children|Comedy|Fantasy</td>\n",
       "    </tr>\n",
       "    <tr>\n",
       "      <th>1</th>\n",
       "      <td>2</td>\n",
       "      <td>Jumanji (1995)</td>\n",
       "      <td>Adventure|Children|Fantasy</td>\n",
       "    </tr>\n",
       "    <tr>\n",
       "      <th>2</th>\n",
       "      <td>3</td>\n",
       "      <td>Grumpier Old Men (1995)</td>\n",
       "      <td>Comedy|Romance</td>\n",
       "    </tr>\n",
       "    <tr>\n",
       "      <th>3</th>\n",
       "      <td>4</td>\n",
       "      <td>Waiting to Exhale (1995)</td>\n",
       "      <td>Comedy|Drama|Romance</td>\n",
       "    </tr>\n",
       "    <tr>\n",
       "      <th>4</th>\n",
       "      <td>5</td>\n",
       "      <td>Father of the Bride Part II (1995)</td>\n",
       "      <td>Comedy</td>\n",
       "    </tr>\n",
       "  </tbody>\n",
       "</table>\n",
       "</div>"
      ],
      "text/plain": [
       "   movieId                               title  \\\n",
       "0        1                    Toy Story (1995)   \n",
       "1        2                      Jumanji (1995)   \n",
       "2        3             Grumpier Old Men (1995)   \n",
       "3        4            Waiting to Exhale (1995)   \n",
       "4        5  Father of the Bride Part II (1995)   \n",
       "\n",
       "                                        genres  \n",
       "0  Adventure|Animation|Children|Comedy|Fantasy  \n",
       "1                   Adventure|Children|Fantasy  \n",
       "2                               Comedy|Romance  \n",
       "3                         Comedy|Drama|Romance  \n",
       "4                                       Comedy  "
      ]
     },
     "execution_count": 3,
     "metadata": {},
     "output_type": "execute_result"
    }
   ],
   "source": [
    "movies = pd.read_csv('movies.csv')\n",
    "movies.head()"
   ]
  },
  {
   "cell_type": "code",
   "execution_count": 4,
   "id": "093f5914",
   "metadata": {},
   "outputs": [
    {
     "data": {
      "text/html": [
       "<div>\n",
       "<style scoped>\n",
       "    .dataframe tbody tr th:only-of-type {\n",
       "        vertical-align: middle;\n",
       "    }\n",
       "\n",
       "    .dataframe tbody tr th {\n",
       "        vertical-align: top;\n",
       "    }\n",
       "\n",
       "    .dataframe thead th {\n",
       "        text-align: right;\n",
       "    }\n",
       "</style>\n",
       "<table border=\"1\" class=\"dataframe\">\n",
       "  <thead>\n",
       "    <tr style=\"text-align: right;\">\n",
       "      <th></th>\n",
       "      <th>movieId</th>\n",
       "      <th>title_cast</th>\n",
       "      <th>director</th>\n",
       "      <th>runtime</th>\n",
       "      <th>budget</th>\n",
       "      <th>plot_keywords</th>\n",
       "    </tr>\n",
       "  </thead>\n",
       "  <tbody>\n",
       "    <tr>\n",
       "      <th>0</th>\n",
       "      <td>1</td>\n",
       "      <td>Tom Hanks|Tim Allen|Don Rickles|Jim Varney|Wal...</td>\n",
       "      <td>John Lasseter</td>\n",
       "      <td>81.0</td>\n",
       "      <td>$30,000,000</td>\n",
       "      <td>toy|rivalry|cowboy|cgi animation</td>\n",
       "    </tr>\n",
       "    <tr>\n",
       "      <th>1</th>\n",
       "      <td>2</td>\n",
       "      <td>Robin Williams|Jonathan Hyde|Kirsten Dunst|Bra...</td>\n",
       "      <td>Jonathan Hensleigh</td>\n",
       "      <td>104.0</td>\n",
       "      <td>$65,000,000</td>\n",
       "      <td>board game|adventurer|fight|game</td>\n",
       "    </tr>\n",
       "    <tr>\n",
       "      <th>2</th>\n",
       "      <td>3</td>\n",
       "      <td>Walter Matthau|Jack Lemmon|Sophia Loren|Ann-Ma...</td>\n",
       "      <td>Mark Steven Johnson</td>\n",
       "      <td>101.0</td>\n",
       "      <td>$25,000,000</td>\n",
       "      <td>boat|lake|neighbor|rivalry</td>\n",
       "    </tr>\n",
       "    <tr>\n",
       "      <th>3</th>\n",
       "      <td>4</td>\n",
       "      <td>Whitney Houston|Angela Bassett|Loretta Devine|...</td>\n",
       "      <td>Terry McMillan</td>\n",
       "      <td>124.0</td>\n",
       "      <td>$16,000,000</td>\n",
       "      <td>black american|husband wife relationship|betra...</td>\n",
       "    </tr>\n",
       "    <tr>\n",
       "      <th>4</th>\n",
       "      <td>5</td>\n",
       "      <td>Steve Martin|Diane Keaton|Martin Short|Kimberl...</td>\n",
       "      <td>Albert Hackett</td>\n",
       "      <td>106.0</td>\n",
       "      <td>$30,000,000</td>\n",
       "      <td>fatherhood|doberman|dog|mansion</td>\n",
       "    </tr>\n",
       "  </tbody>\n",
       "</table>\n",
       "</div>"
      ],
      "text/plain": [
       "   movieId                                         title_cast  \\\n",
       "0        1  Tom Hanks|Tim Allen|Don Rickles|Jim Varney|Wal...   \n",
       "1        2  Robin Williams|Jonathan Hyde|Kirsten Dunst|Bra...   \n",
       "2        3  Walter Matthau|Jack Lemmon|Sophia Loren|Ann-Ma...   \n",
       "3        4  Whitney Houston|Angela Bassett|Loretta Devine|...   \n",
       "4        5  Steve Martin|Diane Keaton|Martin Short|Kimberl...   \n",
       "\n",
       "              director  runtime       budget  \\\n",
       "0        John Lasseter     81.0  $30,000,000   \n",
       "1   Jonathan Hensleigh    104.0  $65,000,000   \n",
       "2  Mark Steven Johnson    101.0  $25,000,000   \n",
       "3       Terry McMillan    124.0  $16,000,000   \n",
       "4       Albert Hackett    106.0  $30,000,000   \n",
       "\n",
       "                                       plot_keywords  \n",
       "0                   toy|rivalry|cowboy|cgi animation  \n",
       "1                   board game|adventurer|fight|game  \n",
       "2                         boat|lake|neighbor|rivalry  \n",
       "3  black american|husband wife relationship|betra...  \n",
       "4                    fatherhood|doberman|dog|mansion  "
      ]
     },
     "execution_count": 4,
     "metadata": {},
     "output_type": "execute_result"
    }
   ],
   "source": [
    "imdb = pd.read_csv('imdb_data.csv')\n",
    "imdb.head()"
   ]
  },
  {
   "cell_type": "code",
   "execution_count": 5,
   "id": "85931d4c",
   "metadata": {},
   "outputs": [
    {
     "data": {
      "text/html": [
       "<div>\n",
       "<style scoped>\n",
       "    .dataframe tbody tr th:only-of-type {\n",
       "        vertical-align: middle;\n",
       "    }\n",
       "\n",
       "    .dataframe tbody tr th {\n",
       "        vertical-align: top;\n",
       "    }\n",
       "\n",
       "    .dataframe thead th {\n",
       "        text-align: right;\n",
       "    }\n",
       "</style>\n",
       "<table border=\"1\" class=\"dataframe\">\n",
       "  <thead>\n",
       "    <tr style=\"text-align: right;\">\n",
       "      <th></th>\n",
       "      <th>userId</th>\n",
       "      <th>movieId</th>\n",
       "      <th>tag</th>\n",
       "      <th>timestamp</th>\n",
       "    </tr>\n",
       "  </thead>\n",
       "  <tbody>\n",
       "    <tr>\n",
       "      <th>0</th>\n",
       "      <td>3</td>\n",
       "      <td>260</td>\n",
       "      <td>classic</td>\n",
       "      <td>1439472355</td>\n",
       "    </tr>\n",
       "    <tr>\n",
       "      <th>1</th>\n",
       "      <td>3</td>\n",
       "      <td>260</td>\n",
       "      <td>sci-fi</td>\n",
       "      <td>1439472256</td>\n",
       "    </tr>\n",
       "    <tr>\n",
       "      <th>2</th>\n",
       "      <td>4</td>\n",
       "      <td>1732</td>\n",
       "      <td>dark comedy</td>\n",
       "      <td>1573943598</td>\n",
       "    </tr>\n",
       "    <tr>\n",
       "      <th>3</th>\n",
       "      <td>4</td>\n",
       "      <td>1732</td>\n",
       "      <td>great dialogue</td>\n",
       "      <td>1573943604</td>\n",
       "    </tr>\n",
       "    <tr>\n",
       "      <th>4</th>\n",
       "      <td>4</td>\n",
       "      <td>7569</td>\n",
       "      <td>so bad it's good</td>\n",
       "      <td>1573943455</td>\n",
       "    </tr>\n",
       "  </tbody>\n",
       "</table>\n",
       "</div>"
      ],
      "text/plain": [
       "   userId  movieId               tag   timestamp\n",
       "0       3      260           classic  1439472355\n",
       "1       3      260            sci-fi  1439472256\n",
       "2       4     1732       dark comedy  1573943598\n",
       "3       4     1732    great dialogue  1573943604\n",
       "4       4     7569  so bad it's good  1573943455"
      ]
     },
     "execution_count": 5,
     "metadata": {},
     "output_type": "execute_result"
    }
   ],
   "source": [
    "tags = pd.read_csv('tags.csv')\n",
    "tags.head()"
   ]
  },
  {
   "cell_type": "code",
   "execution_count": 6,
   "id": "81a838a4",
   "metadata": {},
   "outputs": [
    {
     "data": {
      "text/html": [
       "<div>\n",
       "<style scoped>\n",
       "    .dataframe tbody tr th:only-of-type {\n",
       "        vertical-align: middle;\n",
       "    }\n",
       "\n",
       "    .dataframe tbody tr th {\n",
       "        vertical-align: top;\n",
       "    }\n",
       "\n",
       "    .dataframe thead th {\n",
       "        text-align: right;\n",
       "    }\n",
       "</style>\n",
       "<table border=\"1\" class=\"dataframe\">\n",
       "  <thead>\n",
       "    <tr style=\"text-align: right;\">\n",
       "      <th></th>\n",
       "      <th>tagId</th>\n",
       "      <th>tag</th>\n",
       "    </tr>\n",
       "  </thead>\n",
       "  <tbody>\n",
       "    <tr>\n",
       "      <th>0</th>\n",
       "      <td>1</td>\n",
       "      <td>007</td>\n",
       "    </tr>\n",
       "    <tr>\n",
       "      <th>1</th>\n",
       "      <td>2</td>\n",
       "      <td>007 (series)</td>\n",
       "    </tr>\n",
       "    <tr>\n",
       "      <th>2</th>\n",
       "      <td>3</td>\n",
       "      <td>18th century</td>\n",
       "    </tr>\n",
       "    <tr>\n",
       "      <th>3</th>\n",
       "      <td>4</td>\n",
       "      <td>1920s</td>\n",
       "    </tr>\n",
       "    <tr>\n",
       "      <th>4</th>\n",
       "      <td>5</td>\n",
       "      <td>1930s</td>\n",
       "    </tr>\n",
       "  </tbody>\n",
       "</table>\n",
       "</div>"
      ],
      "text/plain": [
       "   tagId           tag\n",
       "0      1           007\n",
       "1      2  007 (series)\n",
       "2      3  18th century\n",
       "3      4         1920s\n",
       "4      5         1930s"
      ]
     },
     "execution_count": 6,
     "metadata": {},
     "output_type": "execute_result"
    }
   ],
   "source": [
    "genome_tags = pd.read_csv('genome_tags.csv')\n",
    "genome_tags.head()"
   ]
  },
  {
   "cell_type": "code",
   "execution_count": 7,
   "id": "fae4ca90",
   "metadata": {},
   "outputs": [
    {
     "data": {
      "text/html": [
       "<div>\n",
       "<style scoped>\n",
       "    .dataframe tbody tr th:only-of-type {\n",
       "        vertical-align: middle;\n",
       "    }\n",
       "\n",
       "    .dataframe tbody tr th {\n",
       "        vertical-align: top;\n",
       "    }\n",
       "\n",
       "    .dataframe thead th {\n",
       "        text-align: right;\n",
       "    }\n",
       "</style>\n",
       "<table border=\"1\" class=\"dataframe\">\n",
       "  <thead>\n",
       "    <tr style=\"text-align: right;\">\n",
       "      <th></th>\n",
       "      <th>movieId</th>\n",
       "      <th>imdbId</th>\n",
       "      <th>tmdbId</th>\n",
       "    </tr>\n",
       "  </thead>\n",
       "  <tbody>\n",
       "    <tr>\n",
       "      <th>0</th>\n",
       "      <td>1</td>\n",
       "      <td>114709</td>\n",
       "      <td>862.0</td>\n",
       "    </tr>\n",
       "    <tr>\n",
       "      <th>1</th>\n",
       "      <td>2</td>\n",
       "      <td>113497</td>\n",
       "      <td>8844.0</td>\n",
       "    </tr>\n",
       "    <tr>\n",
       "      <th>2</th>\n",
       "      <td>3</td>\n",
       "      <td>113228</td>\n",
       "      <td>15602.0</td>\n",
       "    </tr>\n",
       "    <tr>\n",
       "      <th>3</th>\n",
       "      <td>4</td>\n",
       "      <td>114885</td>\n",
       "      <td>31357.0</td>\n",
       "    </tr>\n",
       "    <tr>\n",
       "      <th>4</th>\n",
       "      <td>5</td>\n",
       "      <td>113041</td>\n",
       "      <td>11862.0</td>\n",
       "    </tr>\n",
       "  </tbody>\n",
       "</table>\n",
       "</div>"
      ],
      "text/plain": [
       "   movieId  imdbId   tmdbId\n",
       "0        1  114709    862.0\n",
       "1        2  113497   8844.0\n",
       "2        3  113228  15602.0\n",
       "3        4  114885  31357.0\n",
       "4        5  113041  11862.0"
      ]
     },
     "execution_count": 7,
     "metadata": {},
     "output_type": "execute_result"
    }
   ],
   "source": [
    "links = pd.read_csv('links.csv')\n",
    "links.head()"
   ]
  },
  {
   "cell_type": "code",
   "execution_count": 8,
   "id": "a17237a3",
   "metadata": {},
   "outputs": [
    {
     "data": {
      "text/html": [
       "<div>\n",
       "<style scoped>\n",
       "    .dataframe tbody tr th:only-of-type {\n",
       "        vertical-align: middle;\n",
       "    }\n",
       "\n",
       "    .dataframe tbody tr th {\n",
       "        vertical-align: top;\n",
       "    }\n",
       "\n",
       "    .dataframe thead th {\n",
       "        text-align: right;\n",
       "    }\n",
       "</style>\n",
       "<table border=\"1\" class=\"dataframe\">\n",
       "  <thead>\n",
       "    <tr style=\"text-align: right;\">\n",
       "      <th></th>\n",
       "      <th>movieId</th>\n",
       "      <th>tagId</th>\n",
       "      <th>relevance</th>\n",
       "    </tr>\n",
       "  </thead>\n",
       "  <tbody>\n",
       "    <tr>\n",
       "      <th>0</th>\n",
       "      <td>1</td>\n",
       "      <td>1</td>\n",
       "      <td>0.02875</td>\n",
       "    </tr>\n",
       "    <tr>\n",
       "      <th>1</th>\n",
       "      <td>1</td>\n",
       "      <td>2</td>\n",
       "      <td>0.02375</td>\n",
       "    </tr>\n",
       "    <tr>\n",
       "      <th>2</th>\n",
       "      <td>1</td>\n",
       "      <td>3</td>\n",
       "      <td>0.06250</td>\n",
       "    </tr>\n",
       "    <tr>\n",
       "      <th>3</th>\n",
       "      <td>1</td>\n",
       "      <td>4</td>\n",
       "      <td>0.07575</td>\n",
       "    </tr>\n",
       "    <tr>\n",
       "      <th>4</th>\n",
       "      <td>1</td>\n",
       "      <td>5</td>\n",
       "      <td>0.14075</td>\n",
       "    </tr>\n",
       "  </tbody>\n",
       "</table>\n",
       "</div>"
      ],
      "text/plain": [
       "   movieId  tagId  relevance\n",
       "0        1      1    0.02875\n",
       "1        1      2    0.02375\n",
       "2        1      3    0.06250\n",
       "3        1      4    0.07575\n",
       "4        1      5    0.14075"
      ]
     },
     "execution_count": 8,
     "metadata": {},
     "output_type": "execute_result"
    }
   ],
   "source": [
    "genome_scores = pd.read_csv('genome_scores.csv')\n",
    "genome_scores.head()"
   ]
  },
  {
   "cell_type": "code",
   "execution_count": 9,
   "id": "f9ae3956",
   "metadata": {},
   "outputs": [
    {
     "data": {
      "text/html": [
       "<div>\n",
       "<style scoped>\n",
       "    .dataframe tbody tr th:only-of-type {\n",
       "        vertical-align: middle;\n",
       "    }\n",
       "\n",
       "    .dataframe tbody tr th {\n",
       "        vertical-align: top;\n",
       "    }\n",
       "\n",
       "    .dataframe thead th {\n",
       "        text-align: right;\n",
       "    }\n",
       "</style>\n",
       "<table border=\"1\" class=\"dataframe\">\n",
       "  <thead>\n",
       "    <tr style=\"text-align: right;\">\n",
       "      <th></th>\n",
       "      <th>userId</th>\n",
       "      <th>movieId</th>\n",
       "      <th>rating</th>\n",
       "      <th>timestamp</th>\n",
       "    </tr>\n",
       "  </thead>\n",
       "  <tbody>\n",
       "    <tr>\n",
       "      <th>0</th>\n",
       "      <td>5163</td>\n",
       "      <td>57669</td>\n",
       "      <td>4.0</td>\n",
       "      <td>1518349992</td>\n",
       "    </tr>\n",
       "    <tr>\n",
       "      <th>1</th>\n",
       "      <td>106343</td>\n",
       "      <td>5</td>\n",
       "      <td>4.5</td>\n",
       "      <td>1206238739</td>\n",
       "    </tr>\n",
       "    <tr>\n",
       "      <th>2</th>\n",
       "      <td>146790</td>\n",
       "      <td>5459</td>\n",
       "      <td>5.0</td>\n",
       "      <td>1076215539</td>\n",
       "    </tr>\n",
       "    <tr>\n",
       "      <th>3</th>\n",
       "      <td>106362</td>\n",
       "      <td>32296</td>\n",
       "      <td>2.0</td>\n",
       "      <td>1423042565</td>\n",
       "    </tr>\n",
       "    <tr>\n",
       "      <th>4</th>\n",
       "      <td>9041</td>\n",
       "      <td>366</td>\n",
       "      <td>3.0</td>\n",
       "      <td>833375837</td>\n",
       "    </tr>\n",
       "  </tbody>\n",
       "</table>\n",
       "</div>"
      ],
      "text/plain": [
       "   userId  movieId  rating   timestamp\n",
       "0    5163    57669     4.0  1518349992\n",
       "1  106343        5     4.5  1206238739\n",
       "2  146790     5459     5.0  1076215539\n",
       "3  106362    32296     2.0  1423042565\n",
       "4    9041      366     3.0   833375837"
      ]
     },
     "execution_count": 9,
     "metadata": {},
     "output_type": "execute_result"
    }
   ],
   "source": [
    "# For building the recommender system\n",
    "train = pd.read_csv('train.csv')\n",
    "train.head()"
   ]
  },
  {
   "cell_type": "code",
   "execution_count": 10,
   "id": "51bacf39",
   "metadata": {},
   "outputs": [
    {
     "data": {
      "text/html": [
       "<div>\n",
       "<style scoped>\n",
       "    .dataframe tbody tr th:only-of-type {\n",
       "        vertical-align: middle;\n",
       "    }\n",
       "\n",
       "    .dataframe tbody tr th {\n",
       "        vertical-align: top;\n",
       "    }\n",
       "\n",
       "    .dataframe thead th {\n",
       "        text-align: right;\n",
       "    }\n",
       "</style>\n",
       "<table border=\"1\" class=\"dataframe\">\n",
       "  <thead>\n",
       "    <tr style=\"text-align: right;\">\n",
       "      <th></th>\n",
       "      <th>userId</th>\n",
       "      <th>movieId</th>\n",
       "    </tr>\n",
       "  </thead>\n",
       "  <tbody>\n",
       "    <tr>\n",
       "      <th>0</th>\n",
       "      <td>1</td>\n",
       "      <td>2011</td>\n",
       "    </tr>\n",
       "    <tr>\n",
       "      <th>1</th>\n",
       "      <td>1</td>\n",
       "      <td>4144</td>\n",
       "    </tr>\n",
       "    <tr>\n",
       "      <th>2</th>\n",
       "      <td>1</td>\n",
       "      <td>5767</td>\n",
       "    </tr>\n",
       "    <tr>\n",
       "      <th>3</th>\n",
       "      <td>1</td>\n",
       "      <td>6711</td>\n",
       "    </tr>\n",
       "    <tr>\n",
       "      <th>4</th>\n",
       "      <td>1</td>\n",
       "      <td>7318</td>\n",
       "    </tr>\n",
       "  </tbody>\n",
       "</table>\n",
       "</div>"
      ],
      "text/plain": [
       "   userId  movieId\n",
       "0       1     2011\n",
       "1       1     4144\n",
       "2       1     5767\n",
       "3       1     6711\n",
       "4       1     7318"
      ]
     },
     "execution_count": 10,
     "metadata": {},
     "output_type": "execute_result"
    }
   ],
   "source": [
    "test = pd.read_csv('test.csv')\n",
    "test.head()"
   ]
  },
  {
   "cell_type": "code",
   "execution_count": 11,
   "id": "79654364",
   "metadata": {},
   "outputs": [],
   "source": [
    "#sample_sub = pd.read_csv('sample_submission.csv')\n",
    "#print(sample_sub.shape)\n",
    "#sample_sub.head()"
   ]
  },
  {
   "attachments": {},
   "cell_type": "markdown",
   "id": "57d1389f",
   "metadata": {},
   "source": [
    "From the above cell, it is noted that the sample submission should consist of ~5M rows, and 2 columns."
   ]
  },
  {
   "cell_type": "markdown",
   "id": "2d74bf23",
   "metadata": {},
   "source": [
    "<a id=\"three\"></a>\n",
    "### 3. Exploratory Data Analysis (EDA)\n",
    "<a class=\"anchor\" id=\"1.1\"></a>\n",
    "<a href=#cont>Back to Table of Contents</a>\n",
    "\n",
    "---\n",
    "    \n",
    "| ⚡ Description: Exploratory data analysis ⚡ |\n",
    "| :--------------------------- |\n",
    "| In this section, you are required to perform an in-depth analysis of all the variables in the DataFrame. |\n",
    "\n",
    "---\n"
   ]
  },
  {
   "attachments": {},
   "cell_type": "markdown",
   "id": "c92e9584",
   "metadata": {},
   "source": [
    "### Using a For Loop to check the shape of each dataframe."
   ]
  },
  {
   "cell_type": "code",
   "execution_count": 12,
   "id": "2666ae8e",
   "metadata": {},
   "outputs": [
    {
     "name": "stdout",
     "output_type": "stream",
     "text": [
      "(62423, 3)\n",
      "(27278, 6)\n",
      "(1093360, 4)\n",
      "(62423, 3)\n",
      "(15584448, 3)\n",
      "(1128, 2)\n",
      "(10000038, 4)\n",
      "(5000019, 2)\n"
     ]
    }
   ],
   "source": [
    "list_of_all_dataframes = [ movies, imdb, tags, links, genome_scores, genome_tags, train, test ]\n",
    "\n",
    "for each in list_of_all_dataframes:\n",
    "    print(each.shape)\n",
    "# https://stackoverflow.com/questions/68158905/using-for-loop-to-print-shape-of-multiple-dataframes"
   ]
  },
  {
   "attachments": {},
   "cell_type": "markdown",
   "id": "dd98e896",
   "metadata": {},
   "source": [
    "From above, it is observed that:\n",
    "- movies has ~63 500 rows, and 3 columns\n",
    "- imdb has ~27 300 rows, and 6 columns\n",
    "- tags has ~1.1M rows, and 4 columns\n",
    "- links has ~62 300 rows, and 3 columns\n",
    "- genome_scores has ~15.6M rows, and 3 columns\n",
    "- genome_tags has ~1100 rows, and 2 columns\n",
    "- train has ~10M rows, and 4 columns\n",
    "- test has ~5M rows, and 2 columns"
   ]
  },
  {
   "cell_type": "code",
   "execution_count": 13,
   "id": "426e273a",
   "metadata": {},
   "outputs": [],
   "source": [
    "# Let's look at a distribution of the ratings given by users. Here we see that viewers generally are \n",
    "# on the kinder end of the rating spectrum, with a far higher proportion of positive reviews (> 3) \n",
    "# being given over negative ones (< 3):\n",
    "\n",
    "#with sns.axes_style('white'):\n",
    "#    g = sns.factorplot(\"rating\", data=train, aspect=2.0,kind='count')\n",
    "#    g.set_ylabels(\"Total number of ratings\")\n",
    "#print (f'Average rating in dataset: {np.mean(train[\"rating\"])}')"
   ]
  },
  {
   "attachments": {},
   "cell_type": "markdown",
   "id": "a2b3f899",
   "metadata": {},
   "source": [
    "### Let's see the vote average"
   ]
  },
  {
   "cell_type": "code",
   "execution_count": 14,
   "id": "65de1540",
   "metadata": {},
   "outputs": [
    {
     "data": {
      "text/plain": [
       "3.53"
      ]
     },
     "execution_count": 14,
     "metadata": {},
     "output_type": "execute_result"
    }
   ],
   "source": [
    "average_rating = round(train.rating.mean(),2)  # To 2 decimal places\n",
    "average_rating"
   ]
  },
  {
   "attachments": {},
   "cell_type": "markdown",
   "id": "825686d2",
   "metadata": {},
   "source": [
    "From the more than 10M ratings that we have, the average rating in 3.53."
   ]
  },
  {
   "attachments": {},
   "cell_type": "markdown",
   "id": "e42635da",
   "metadata": {},
   "source": [
    "### Checking how many null values there are in each column of each dataframe"
   ]
  },
  {
   "cell_type": "code",
   "execution_count": 15,
   "id": "a329dbbb",
   "metadata": {},
   "outputs": [
    {
     "data": {
      "text/plain": [
       "movieId    0\n",
       "title      0\n",
       "genres     0\n",
       "dtype: int64"
      ]
     },
     "execution_count": 15,
     "metadata": {},
     "output_type": "execute_result"
    }
   ],
   "source": [
    "movies.isnull().sum()"
   ]
  },
  {
   "cell_type": "code",
   "execution_count": 16,
   "id": "5a2736f4",
   "metadata": {},
   "outputs": [
    {
     "data": {
      "text/plain": [
       "movieId              0\n",
       "title_cast       10068\n",
       "director          9874\n",
       "runtime          12089\n",
       "budget           19372\n",
       "plot_keywords    11078\n",
       "dtype: int64"
      ]
     },
     "execution_count": 16,
     "metadata": {},
     "output_type": "execute_result"
    }
   ],
   "source": [
    "imdb.isnull().sum()"
   ]
  },
  {
   "cell_type": "code",
   "execution_count": 17,
   "id": "5ecc77a5",
   "metadata": {},
   "outputs": [
    {
     "data": {
      "text/plain": [
       "userId        0\n",
       "movieId       0\n",
       "tag          16\n",
       "timestamp     0\n",
       "dtype: int64"
      ]
     },
     "execution_count": 17,
     "metadata": {},
     "output_type": "execute_result"
    }
   ],
   "source": [
    "tags.isnull().sum()"
   ]
  },
  {
   "cell_type": "code",
   "execution_count": 18,
   "id": "faffdb7a",
   "metadata": {},
   "outputs": [
    {
     "data": {
      "text/plain": [
       "movieId      0\n",
       "imdbId       0\n",
       "tmdbId     107\n",
       "dtype: int64"
      ]
     },
     "execution_count": 18,
     "metadata": {},
     "output_type": "execute_result"
    }
   ],
   "source": [
    "links.isnull().sum()"
   ]
  },
  {
   "cell_type": "code",
   "execution_count": 19,
   "id": "f44cd413",
   "metadata": {},
   "outputs": [
    {
     "data": {
      "text/plain": [
       "movieId      0\n",
       "tagId        0\n",
       "relevance    0\n",
       "dtype: int64"
      ]
     },
     "execution_count": 19,
     "metadata": {},
     "output_type": "execute_result"
    }
   ],
   "source": [
    "genome_scores.isnull().sum()"
   ]
  },
  {
   "cell_type": "code",
   "execution_count": 20,
   "id": "19331ce3",
   "metadata": {},
   "outputs": [
    {
     "data": {
      "text/plain": [
       "tagId    0\n",
       "tag      0\n",
       "dtype: int64"
      ]
     },
     "execution_count": 20,
     "metadata": {},
     "output_type": "execute_result"
    }
   ],
   "source": [
    "genome_tags.isnull().sum()"
   ]
  },
  {
   "cell_type": "code",
   "execution_count": 21,
   "id": "bd8d00bc",
   "metadata": {},
   "outputs": [
    {
     "data": {
      "text/plain": [
       "userId       0\n",
       "movieId      0\n",
       "rating       0\n",
       "timestamp    0\n",
       "dtype: int64"
      ]
     },
     "execution_count": 21,
     "metadata": {},
     "output_type": "execute_result"
    }
   ],
   "source": [
    "train.isnull().sum()"
   ]
  },
  {
   "cell_type": "code",
   "execution_count": 22,
   "id": "4cc725dc",
   "metadata": {},
   "outputs": [
    {
     "data": {
      "text/plain": [
       "userId     0\n",
       "movieId    0\n",
       "dtype: int64"
      ]
     },
     "execution_count": 22,
     "metadata": {},
     "output_type": "execute_result"
    }
   ],
   "source": [
    "test.isnull().sum()"
   ]
  },
  {
   "attachments": {},
   "cell_type": "markdown",
   "id": "ab5b7cdc",
   "metadata": {},
   "source": [
    "### Visualizing the missing values columns in the dataframe that had a significant amount of missing values"
   ]
  },
  {
   "cell_type": "code",
   "execution_count": 23,
   "id": "e3be496b",
   "metadata": {},
   "outputs": [
    {
     "data": {
      "text/plain": [
       "Text(0.5, 1.0, 'MISSING VALUES IN EACH COLUMN')"
      ]
     },
     "execution_count": 23,
     "metadata": {},
     "output_type": "execute_result"
    },
    {
     "data": {
      "image/png": "[encoded data removed]",
      "text/plain": [
       "<Figure size 720x576 with 3 Axes>"
      ]
     },
     "metadata": {},
     "output_type": "display_data"
    }
   ],
   "source": [
    "import missingno #Python library for the exploratory visualization of missing data #install using !pip install missingno\n",
    "color= ['dimgrey','dimgrey','dimgrey','darkblue','blue','blue','lightblue','dimgrey','dimgrey','dimgrey','dimgrey','dimgrey']\n",
    "missingno.bar(imdb,fontsize=10,color=color,figsize=(10,8))\n",
    "plt.title('MISSING VALUES IN EACH COLUMN',fontsize=20)"
   ]
  },
  {
   "cell_type": "code",
   "execution_count": 24,
   "id": "80dc2b74",
   "metadata": {},
   "outputs": [
    {
     "name": "stdout",
     "output_type": "stream",
     "text": [
      "14584    ZAR10,000,000\n",
      "23579     VEB4,273,248\n",
      "24115        UAH10,000\n",
      "24673    TWD50,000,000\n",
      "15111    TWD45,000,000\n",
      "             ...      \n",
      "27271              NaN\n",
      "27273              NaN\n",
      "27275              NaN\n",
      "27276              NaN\n",
      "27277              NaN\n",
      "Name: budget, Length: 27278, dtype: object\n"
     ]
    }
   ],
   "source": [
    "df_budget = imdb.sort_values(by='budget',ascending=False)\n",
    "print(df_budget.budget)"
   ]
  },
  {
   "cell_type": "code",
   "execution_count": 25,
   "id": "5cc6b364",
   "metadata": {},
   "outputs": [
    {
     "name": "stdout",
     "output_type": "stream",
     "text": [
      "['ZAR' 'VEB' 'UAH' 'TWD' 'TRL' 'THB' 'SIT' 'SGD' 'SEK' 'RUR' 'PTE' 'PLN'\n",
      " 'PHP' 'NZD' 'NOK' 'NLG' 'NGN' 'MYR' 'MXN' 'LVL' 'LTL' 'KRW' 'JPY' 'ITL'\n",
      " 'ISK' 'IRR' 'INR' 'ILS' 'IDR' 'HUF' 'HKD' 'GBP' 'FRF' 'FIM' 'EUR' 'ESP'\n",
      " 'EGP' 'DKK' 'DEM' 'CZK' 'COP' 'CNY' 'CLP' 'CHF' 'CAD' 'BRL' 'BND' 'BGL'\n",
      " 'BEF' 'AUD' 'ATS' 'ARS' '$99' '$98' '$95' '$94' '$93' '$92' '$90' '$9,'\n",
      " '$89' '$88' '$87' '$86' '$85' '$84' '$83' '$82' '$81' '$80' '$8,' '$79'\n",
      " '$78' '$76' '$75' '$74' '$73' '$72' '$71' '$70' '$7,' '$69' '$68' '$67'\n",
      " '$66' '$65' '$64' '$63' '$62' '$61' '$60' '$6,' '$6' '$59' '$58' '$57'\n",
      " '$56' '$55' '$54' '$53' '$52' '$51' '$50' '$5,' '$5' '$49' '$48' '$47'\n",
      " '$46' '$45' '$44' '$43' '$42' '$41' '$40' '$4,' '$4' '$39' '$38' '$37'\n",
      " '$36' '$35' '$34' '$33' '$32' '$31' '$30' '$3,' '$29' '$28' '$27' '$26'\n",
      " '$25' '$24' '$23' '$22' '$21' '$20' '$2,' '$19' '$18' '$17' '$16' '$15'\n",
      " '$14' '$13' '$12' '$11' '$10' '$1,' '$0' nan]\n"
     ]
    }
   ],
   "source": [
    "movies_ =imdb.sort_values(by='budget',ascending=False)\n",
    "print(movies_.budget.str[0:3].unique())"
   ]
  },
  {
   "attachments": {},
   "cell_type": "markdown",
   "id": "6d4b5ddd",
   "metadata": {},
   "source": [
    "It is observed that the `budget` column has different units:\n",
    "- ZAR\n",
    "- $\n",
    "- VEB\n",
    "- UAH\n",
    "- TWD\n",
    "- TRL\n",
    "- THB \n",
    "- SIT \n",
    "- SGD \n",
    "- SEK\n",
    "- RUR \n",
    "- PTE\n",
    "- PLN\n",
    "- PHP\n",
    "- NZD\n",
    "- NOK\n",
    "- NLG\n",
    "- NGN\n",
    "- MYR\n",
    "- MXN\n",
    "- LVL\n",
    "- LTL\n",
    "- KRW\n",
    "- JPY\n",
    "- ITL\n",
    "- ISK\n",
    "- IRR\n",
    "- INR\n",
    "- ILS\n",
    "- IDR\n",
    "- HUF'\n",
    "- HKD\n",
    "- GBP\n",
    "- FRF\n",
    "- FIM\n",
    "- EUR\n",
    "- ESP\n",
    "- EGP\n",
    "- DKK\n",
    "- DEM\n",
    "- CZK\n",
    "- COP\n",
    "- CNY\n",
    "- CLP\n",
    "- CHF\n",
    "- CAD\n",
    "- BRL\n",
    "- BND\n",
    "- BGL\n",
    "- BEF\n",
    "- AUD\n",
    "- ATS\n",
    "- ARS\n",
    "- as well as null values"
   ]
  },
  {
   "attachments": {},
   "cell_type": "markdown",
   "id": "667a1131",
   "metadata": {},
   "source": [
    "### Visualizing the most popular Genres"
   ]
  },
  {
   "cell_type": "code",
   "execution_count": 26,
   "id": "21858671",
   "metadata": {},
   "outputs": [],
   "source": [
    "# Create dataframe containing only the movieId and genres\n",
    "movies_genres_split = pd.DataFrame(movies[['movieId', 'genres']],columns=['movieId', 'genres'])\n",
    "\n",
    "# Splitting the genres seperated by \"|\". Movie-genre combinations are stored as a list\n",
    "movies_genres_split.genres = movies_genres_split.genres.apply(lambda x: x.split('|'))\n",
    "\n",
    "# Creating the expanded dataframe where each movie-genre combination is in a seperate row\n",
    "movies_genres_split = pd.DataFrame([(x.movieId, d) for x in movies_genres_split.itertuples() for d in x.genres],\n",
    "                             columns=['movieId', 'genres'])"
   ]
  },
  {
   "cell_type": "code",
   "execution_count": 27,
   "id": "2f1a22ab",
   "metadata": {},
   "outputs": [
    {
     "data": {
      "text/html": [
       "<div>\n",
       "<style scoped>\n",
       "    .dataframe tbody tr th:only-of-type {\n",
       "        vertical-align: middle;\n",
       "    }\n",
       "\n",
       "    .dataframe tbody tr th {\n",
       "        vertical-align: top;\n",
       "    }\n",
       "\n",
       "    .dataframe thead th {\n",
       "        text-align: right;\n",
       "    }\n",
       "</style>\n",
       "<table border=\"1\" class=\"dataframe\">\n",
       "  <thead>\n",
       "    <tr style=\"text-align: right;\">\n",
       "      <th></th>\n",
       "      <th>movieId</th>\n",
       "      <th>genres</th>\n",
       "    </tr>\n",
       "  </thead>\n",
       "  <tbody>\n",
       "    <tr>\n",
       "      <th>0</th>\n",
       "      <td>1</td>\n",
       "      <td>Adventure</td>\n",
       "    </tr>\n",
       "    <tr>\n",
       "      <th>1</th>\n",
       "      <td>1</td>\n",
       "      <td>Animation</td>\n",
       "    </tr>\n",
       "    <tr>\n",
       "      <th>2</th>\n",
       "      <td>1</td>\n",
       "      <td>Children</td>\n",
       "    </tr>\n",
       "    <tr>\n",
       "      <th>3</th>\n",
       "      <td>1</td>\n",
       "      <td>Comedy</td>\n",
       "    </tr>\n",
       "    <tr>\n",
       "      <th>4</th>\n",
       "      <td>1</td>\n",
       "      <td>Fantasy</td>\n",
       "    </tr>\n",
       "    <tr>\n",
       "      <th>5</th>\n",
       "      <td>2</td>\n",
       "      <td>Adventure</td>\n",
       "    </tr>\n",
       "    <tr>\n",
       "      <th>6</th>\n",
       "      <td>2</td>\n",
       "      <td>Children</td>\n",
       "    </tr>\n",
       "    <tr>\n",
       "      <th>7</th>\n",
       "      <td>2</td>\n",
       "      <td>Fantasy</td>\n",
       "    </tr>\n",
       "    <tr>\n",
       "      <th>8</th>\n",
       "      <td>3</td>\n",
       "      <td>Comedy</td>\n",
       "    </tr>\n",
       "    <tr>\n",
       "      <th>9</th>\n",
       "      <td>3</td>\n",
       "      <td>Romance</td>\n",
       "    </tr>\n",
       "  </tbody>\n",
       "</table>\n",
       "</div>"
      ],
      "text/plain": [
       "   movieId     genres\n",
       "0        1  Adventure\n",
       "1        1  Animation\n",
       "2        1   Children\n",
       "3        1     Comedy\n",
       "4        1    Fantasy\n",
       "5        2  Adventure\n",
       "6        2   Children\n",
       "7        2    Fantasy\n",
       "8        3     Comedy\n",
       "9        3    Romance"
      ]
     },
     "execution_count": 27,
     "metadata": {},
     "output_type": "execute_result"
    }
   ],
   "source": [
    "movies_genres_split.head(10)"
   ]
  },
  {
   "cell_type": "code",
   "execution_count": 46,
   "id": "b054dfc4",
   "metadata": {},
   "outputs": [
    {
     "data": {
      "image/png": "[encoded data removed]",
      "text/plain": [
       "<Figure size 1330x760 with 1 Axes>"
      ]
     },
     "metadata": {},
     "output_type": "display_data"
    }
   ],
   "source": [
    "# Ploting the genres in descending order\n",
    "plot = plt.figure(figsize=(14, 8), dpi =95)\n",
    "plt.title('Popular Movie Genres In Descending Order\\n', fontsize=18)\n",
    "ax=sns.countplot(y=\"genres\", data=movies_genres_split,order=movies_genres_split['genres']\n",
    "              .value_counts(ascending=False).index, color='darkblue', ec= 'orange', alpha=0.8)\n",
    "ax.bar_label(ax.containers[0])              \n",
    "plt.ylabel('Genres')\n",
    "plt.xlabel('Count')\n",
    "plt.show()"
   ]
  },
  {
   "cell_type": "code",
   "execution_count": 29,
   "id": "8808842f",
   "metadata": {},
   "outputs": [
    {
     "data": {
      "text/html": [
       "<div>\n",
       "<style scoped>\n",
       "    .dataframe tbody tr th:only-of-type {\n",
       "        vertical-align: middle;\n",
       "    }\n",
       "\n",
       "    .dataframe tbody tr th {\n",
       "        vertical-align: top;\n",
       "    }\n",
       "\n",
       "    .dataframe thead th {\n",
       "        text-align: right;\n",
       "    }\n",
       "</style>\n",
       "<table border=\"1\" class=\"dataframe\">\n",
       "  <thead>\n",
       "    <tr style=\"text-align: right;\">\n",
       "      <th></th>\n",
       "      <th>count</th>\n",
       "      <th>mean</th>\n",
       "      <th>std</th>\n",
       "      <th>min</th>\n",
       "      <th>25%</th>\n",
       "      <th>50%</th>\n",
       "      <th>75%</th>\n",
       "      <th>max</th>\n",
       "    </tr>\n",
       "  </thead>\n",
       "  <tbody>\n",
       "    <tr>\n",
       "      <th>movieId</th>\n",
       "      <td>62423.0</td>\n",
       "      <td>122220.387646</td>\n",
       "      <td>63264.744844</td>\n",
       "      <td>1.0</td>\n",
       "      <td>82146.5</td>\n",
       "      <td>138022.0</td>\n",
       "      <td>173222.0</td>\n",
       "      <td>209171.0</td>\n",
       "    </tr>\n",
       "  </tbody>\n",
       "</table>\n",
       "</div>"
      ],
      "text/plain": [
       "           count           mean           std  min      25%       50%  \\\n",
       "movieId  62423.0  122220.387646  63264.744844  1.0  82146.5  138022.0   \n",
       "\n",
       "              75%       max  \n",
       "movieId  173222.0  209171.0  "
      ]
     },
     "execution_count": 29,
     "metadata": {},
     "output_type": "execute_result"
    }
   ],
   "source": [
    "movies.describe().T"
   ]
  },
  {
   "cell_type": "code",
   "execution_count": 30,
   "id": "f196900f",
   "metadata": {},
   "outputs": [
    {
     "name": "stdout",
     "output_type": "stream",
     "text": [
      "<class 'pandas.core.frame.DataFrame'>\n",
      "RangeIndex: 62423 entries, 0 to 62422\n",
      "Data columns (total 3 columns):\n",
      " #   Column   Non-Null Count  Dtype \n",
      "---  ------   --------------  ----- \n",
      " 0   movieId  62423 non-null  int64 \n",
      " 1   title    62423 non-null  object\n",
      " 2   genres   62423 non-null  object\n",
      "dtypes: int64(1), object(2)\n",
      "memory usage: 1.4+ MB\n"
     ]
    }
   ],
   "source": [
    "movies.info()"
   ]
  },
  {
   "attachments": {},
   "cell_type": "markdown",
   "id": "5e216b44",
   "metadata": {},
   "source": [
    "### For analysis purpose, the code below joins the 'movies', 'imbd', and 'train' dataframes together where movieId in one dataframe is the same as the movieId in the other dataframe"
   ]
  },
  {
   "cell_type": "code",
   "execution_count": 31,
   "id": "c0966f64",
   "metadata": {},
   "outputs": [
    {
     "data": {
      "text/html": [
       "<div>\n",
       "<style scoped>\n",
       "    .dataframe tbody tr th:only-of-type {\n",
       "        vertical-align: middle;\n",
       "    }\n",
       "\n",
       "    .dataframe tbody tr th {\n",
       "        vertical-align: top;\n",
       "    }\n",
       "\n",
       "    .dataframe thead th {\n",
       "        text-align: right;\n",
       "    }\n",
       "</style>\n",
       "<table border=\"1\" class=\"dataframe\">\n",
       "  <thead>\n",
       "    <tr style=\"text-align: right;\">\n",
       "      <th></th>\n",
       "      <th>movieId</th>\n",
       "      <th>title</th>\n",
       "      <th>genres</th>\n",
       "      <th>title_cast</th>\n",
       "      <th>director</th>\n",
       "      <th>runtime</th>\n",
       "      <th>budget</th>\n",
       "      <th>plot_keywords</th>\n",
       "      <th>userId</th>\n",
       "      <th>rating</th>\n",
       "      <th>timestamp</th>\n",
       "    </tr>\n",
       "  </thead>\n",
       "  <tbody>\n",
       "    <tr>\n",
       "      <th>0</th>\n",
       "      <td>1</td>\n",
       "      <td>Toy Story (1995)</td>\n",
       "      <td>Adventure|Animation|Children|Comedy|Fantasy</td>\n",
       "      <td>Tom Hanks|Tim Allen|Don Rickles|Jim Varney|Wal...</td>\n",
       "      <td>John Lasseter</td>\n",
       "      <td>81.0</td>\n",
       "      <td>$30,000,000</td>\n",
       "      <td>toy|rivalry|cowboy|cgi animation</td>\n",
       "      <td>158849</td>\n",
       "      <td>5.0</td>\n",
       "      <td>994716786</td>\n",
       "    </tr>\n",
       "    <tr>\n",
       "      <th>1</th>\n",
       "      <td>1</td>\n",
       "      <td>Toy Story (1995)</td>\n",
       "      <td>Adventure|Animation|Children|Comedy|Fantasy</td>\n",
       "      <td>Tom Hanks|Tim Allen|Don Rickles|Jim Varney|Wal...</td>\n",
       "      <td>John Lasseter</td>\n",
       "      <td>81.0</td>\n",
       "      <td>$30,000,000</td>\n",
       "      <td>toy|rivalry|cowboy|cgi animation</td>\n",
       "      <td>97203</td>\n",
       "      <td>5.0</td>\n",
       "      <td>942683155</td>\n",
       "    </tr>\n",
       "  </tbody>\n",
       "</table>\n",
       "</div>"
      ],
      "text/plain": [
       "   movieId             title                                       genres  \\\n",
       "0        1  Toy Story (1995)  Adventure|Animation|Children|Comedy|Fantasy   \n",
       "1        1  Toy Story (1995)  Adventure|Animation|Children|Comedy|Fantasy   \n",
       "\n",
       "                                          title_cast       director  runtime  \\\n",
       "0  Tom Hanks|Tim Allen|Don Rickles|Jim Varney|Wal...  John Lasseter     81.0   \n",
       "1  Tom Hanks|Tim Allen|Don Rickles|Jim Varney|Wal...  John Lasseter     81.0   \n",
       "\n",
       "        budget                     plot_keywords  userId  rating  timestamp  \n",
       "0  $30,000,000  toy|rivalry|cowboy|cgi animation  158849     5.0  994716786  \n",
       "1  $30,000,000  toy|rivalry|cowboy|cgi animation   97203     5.0  942683155  "
      ]
     },
     "execution_count": 31,
     "metadata": {},
     "output_type": "execute_result"
    }
   ],
   "source": [
    "imdb_movies = pd.merge(movies,imdb, on=\"movieId\")\n",
    "df = imdb_movies.merge(train, on=\"movieId\")\n",
    "df.head(2)"
   ]
  },
  {
   "attachments": {},
   "cell_type": "markdown",
   "id": "5c7cfce3",
   "metadata": {},
   "source": [
    "### Checking the average rating of each movie"
   ]
  },
  {
   "cell_type": "code",
   "execution_count": 32,
   "id": "089fa62a",
   "metadata": {},
   "outputs": [
    {
     "data": {
      "text/plain": [
       "title\n",
       "\"Great Performances\" Cats (1998)             2.753731\n",
       "$ (Dollars) (1971)                           2.875000\n",
       "$5 a Day (2008)                              3.125000\n",
       "$9.99 (2008)                                 3.222222\n",
       "$ellebrity (Sellebrity) (2012)               2.250000\n",
       "                                               ...   \n",
       "À nous la liberté (Freedom for Us) (1931)    3.746914\n",
       "À propos de Nice (1930)                      3.200000\n",
       "Árido Movie (2005)                           3.000000\n",
       "Üvegtigris (2001)                            3.142857\n",
       "貞子3D (2012)                                  2.562500\n",
       "Name: rating, Length: 23534, dtype: float64"
      ]
     },
     "execution_count": 32,
     "metadata": {},
     "output_type": "execute_result"
    }
   ],
   "source": [
    "# getting the average rating for all the ratings related to a specific movie title.\n",
    "df.groupby(by='title')['rating'].mean()"
   ]
  },
  {
   "cell_type": "code",
   "execution_count": 33,
   "id": "2818aec9",
   "metadata": {},
   "outputs": [
    {
     "data": {
      "text/plain": [
       "title\n",
       "Wrestling for Jesus: The Tale of T-Money (2011)       5.0\n",
       "The... Beautiful Country (1977)                       5.0\n",
       "Only Daughter (2013)                                  5.0\n",
       "Vasermil (2007)                                       5.0\n",
       "Day the Universe Changed, The (1985)                  5.0\n",
       "                                                     ... \n",
       "Time to Kill (Tempo di uccidere) (1989)               0.5\n",
       "Dangerous Place, A (2012)                             0.5\n",
       "Dana Carvey: Squatting Monkeys Tell No Lies (2008)    0.5\n",
       "I Love, You Love (Ja milujem, ty milujes) (1989)      0.5\n",
       "Beautiful Girl (2014)                                 0.5\n",
       "Name: rating, Length: 23534, dtype: float64"
      ]
     },
     "execution_count": 33,
     "metadata": {},
     "output_type": "execute_result"
    }
   ],
   "source": [
    "# Sorting the movies from highest average rating to the lowest rating\n",
    "df.groupby(by='title')['rating'].mean().sort_values(ascending=False)"
   ]
  },
  {
   "attachments": {},
   "cell_type": "markdown",
   "id": "1a3e73db",
   "metadata": {},
   "source": [
    "From above, it seems as though there some movies that are highly rated. Would it be a good idea to just watch the movie based on it's average rating? Let's find out!\n",
    "\n",
    "- Below, wethe no. of people that rated each movie is explored."
   ]
  },
  {
   "cell_type": "code",
   "execution_count": 34,
   "id": "dc6f7a18",
   "metadata": {},
   "outputs": [
    {
     "data": {
      "text/plain": [
       "title\n",
       "Shawshank Redemption, The (1994)    32831\n",
       "Forrest Gump (1994)                 32383\n",
       "Pulp Fiction (1994)                 31697\n",
       "Silence of the Lambs, The (1991)    29444\n",
       "Matrix, The (1999)                  29014\n",
       "                                    ...  \n",
       "Christopher Strong (1933)               1\n",
       "Secrets of the Tribe (2010)             1\n",
       "Trails (Veredas) (1978)                 1\n",
       "Train Ride to Hollywood (1975)          1\n",
       "Seoul Searching (2015)                  1\n",
       "Name: rating, Length: 23534, dtype: int64"
      ]
     },
     "execution_count": 34,
     "metadata": {},
     "output_type": "execute_result"
    }
   ],
   "source": [
    "df.groupby(by='title')['rating'].count().sort_values(ascending=False)"
   ]
  },
  {
   "attachments": {},
   "cell_type": "markdown",
   "id": "41295693",
   "metadata": {},
   "source": [
    "Let's take for example, the movie called `Vietnam in HD(2011)`, which has an average rating of 5.0, and observe how many people actually rated this movie."
   ]
  },
  {
   "cell_type": "code",
   "execution_count": 35,
   "id": "a6ac9ad9",
   "metadata": {},
   "outputs": [
    {
     "data": {
      "text/plain": [
       "title\n",
       "Vietnam in HD (2011)    1\n",
       "Name: rating, dtype: int64"
      ]
     },
     "execution_count": 35,
     "metadata": {},
     "output_type": "execute_result"
    }
   ],
   "source": [
    "df[df['title'] == \"Vietnam in HD (2011)\"].groupby(by='title')['rating'].count()"
   ]
  },
  {
   "attachments": {},
   "cell_type": "markdown",
   "id": "abb7d3e1",
   "metadata": {},
   "source": [
    "It is observed that the movie was rated by only 1 person. Mhm, not too much confidence for recommending the movie to someone else, right?"
   ]
  },
  {
   "attachments": {},
   "cell_type": "markdown",
   "id": "17198f3b",
   "metadata": {},
   "source": [
    "Let's now take a look at another movie, such as `Forest Gump (1994)`"
   ]
  },
  {
   "cell_type": "code",
   "execution_count": 36,
   "id": "4cb78726",
   "metadata": {},
   "outputs": [
    {
     "data": {
      "text/plain": [
       "title\n",
       "Forrest Gump (1994)    4.047216\n",
       "Name: rating, dtype: float64"
      ]
     },
     "execution_count": 36,
     "metadata": {},
     "output_type": "execute_result"
    }
   ],
   "source": [
    "df[df['title'] == \"Forrest Gump (1994)\"].groupby(by='title')['rating'].mean()"
   ]
  },
  {
   "attachments": {},
   "cell_type": "markdown",
   "id": "1bd2452a",
   "metadata": {},
   "source": [
    "The above movie has an average rating of 4, and was rated by 32 381 people. This would definitely be a better movie to recommend than the first movie."
   ]
  },
  {
   "cell_type": "code",
   "execution_count": 37,
   "id": "13f3f2c9",
   "metadata": {},
   "outputs": [
    {
     "name": "stdout",
     "output_type": "stream",
     "text": [
      "Runtime column mode is:  0    101.0\n",
      "Name: runtime, dtype: float64\n",
      "\n",
      "Runtime mean is:  116.09646355365558\n"
     ]
    }
   ],
   "source": [
    "print('Runtime column mode is: ',df.runtime.mode())\n",
    "\n",
    "print('\\nRuntime mean is: ',df.runtime.mean())"
   ]
  },
  {
   "attachments": {},
   "cell_type": "markdown",
   "id": "3046e919",
   "metadata": {},
   "source": [
    "From above, it is observed that the modal run time is 101 minutes, and the average run time is 116 minutes."
   ]
  },
  {
   "cell_type": "code",
   "execution_count": 45,
   "id": "16f855b8",
   "metadata": {},
   "outputs": [
    {
     "data": {
      "text/plain": [
       "[Text(0, 0, '2.57096e+06'),\n",
       " Text(0, 0, '1.90267e+06'),\n",
       " Text(0, 0, '1.3997e+06'),\n",
       " Text(0, 0, '1.203e+06'),\n",
       " Text(0, 0, '838158'),\n",
       " Text(0, 0, '638178'),\n",
       " Text(0, 0, '478926'),\n",
       " Text(0, 0, '302320'),\n",
       " Text(0, 0, '151882'),\n",
       " Text(0, 0, '147249')]"
      ]
     },
     "execution_count": 45,
     "metadata": {},
     "output_type": "execute_result"
    },
    {
     "data": {
      "image/png": "[encoded data removed]",
      "text/plain": [
       "<Figure size 720x576 with 1 Axes>"
      ]
     },
     "metadata": {},
     "output_type": "display_data"
    }
   ],
   "source": [
    "#MOVIES RATINGS\n",
    "plt.figure(figsize=(10,8))\n",
    "sns.set(style=\"darkgrid\")\n",
    "ax = sns.countplot(x=\"rating\", data= df, palette=\"Set2\", order=df['rating'].value_counts().index[0:10])\n",
    "ax.bar_label(ax.containers[0])"
   ]
  },
  {
   "cell_type": "code",
   "execution_count": 44,
   "id": "998fb0ff",
   "metadata": {},
   "outputs": [
    {
     "ename": "KeyError",
     "evalue": "'rating'",
     "output_type": "error",
     "traceback": [
      "\u001b[1;31m---------------------------------------------------------------------------\u001b[0m",
      "\u001b[1;31mKeyError\u001b[0m                                  Traceback (most recent call last)",
      "File \u001b[1;32mc:\\Users\\jadek\\anaconda3\\lib\\site-packages\\pandas\\core\\indexes\\base.py:3621\u001b[0m, in \u001b[0;36mIndex.get_loc\u001b[1;34m(self, key, method, tolerance)\u001b[0m\n\u001b[0;32m   3620\u001b[0m \u001b[39mtry\u001b[39;00m:\n\u001b[1;32m-> 3621\u001b[0m     \u001b[39mreturn\u001b[39;00m \u001b[39mself\u001b[39;49m\u001b[39m.\u001b[39;49m_engine\u001b[39m.\u001b[39;49mget_loc(casted_key)\n\u001b[0;32m   3622\u001b[0m \u001b[39mexcept\u001b[39;00m \u001b[39mKeyError\u001b[39;00m \u001b[39mas\u001b[39;00m err:\n",
      "File \u001b[1;32mc:\\Users\\jadek\\anaconda3\\lib\\site-packages\\pandas\\_libs\\index.pyx:136\u001b[0m, in \u001b[0;36mpandas._libs.index.IndexEngine.get_loc\u001b[1;34m()\u001b[0m\n",
      "File \u001b[1;32mc:\\Users\\jadek\\anaconda3\\lib\\site-packages\\pandas\\_libs\\index.pyx:163\u001b[0m, in \u001b[0;36mpandas._libs.index.IndexEngine.get_loc\u001b[1;34m()\u001b[0m\n",
      "File \u001b[1;32mpandas\\_libs\\hashtable_class_helper.pxi:5198\u001b[0m, in \u001b[0;36mpandas._libs.hashtable.PyObjectHashTable.get_item\u001b[1;34m()\u001b[0m\n",
      "File \u001b[1;32mpandas\\_libs\\hashtable_class_helper.pxi:5206\u001b[0m, in \u001b[0;36mpandas._libs.hashtable.PyObjectHashTable.get_item\u001b[1;34m()\u001b[0m\n",
      "\u001b[1;31mKeyError\u001b[0m: 'rating'",
      "\nThe above exception was the direct cause of the following exception:\n",
      "\u001b[1;31mKeyError\u001b[0m                                  Traceback (most recent call last)",
      "\u001b[1;32mc:\\Users\\jadek\\OneDrive\\Documents\\GitHub\\Unsupervised-Sprint-2207FTDS-Team-JM5\\Starter_Notebook.ipynb Cell 64\u001b[0m in \u001b[0;36m<cell line: 1>\u001b[1;34m()\u001b[0m\n\u001b[1;32m----> <a href='vscode-notebook-cell:/c%3A/Users/jadek/OneDrive/Documents/GitHub/Unsupervised-Sprint-2207FTDS-Team-JM5/Starter_Notebook.ipynb#Y165sZmlsZQ%3D%3D?line=0'>1</a>\u001b[0m count \u001b[39m=\u001b[39m df\u001b[39m.\u001b[39;49mgroupby(\u001b[39m'\u001b[39;49m\u001b[39mrating\u001b[39;49m\u001b[39m'\u001b[39;49m)\u001b[39m.\u001b[39;49mcount()[\u001b[39m'\u001b[39;49m\u001b[39mrating\u001b[39;49m\u001b[39m'\u001b[39;49m]\u001b[39m.\u001b[39mreset_index()\u001b[39m.\u001b[39msort_values(by\u001b[39m=\u001b[39m[\u001b[39m'\u001b[39m\u001b[39mrating\u001b[39m\u001b[39m'\u001b[39m], ascending\u001b[39m=\u001b[39m\u001b[39mFalse\u001b[39;00m)\n\u001b[0;32m      <a href='vscode-notebook-cell:/c%3A/Users/jadek/OneDrive/Documents/GitHub/Unsupervised-Sprint-2207FTDS-Team-JM5/Starter_Notebook.ipynb#Y165sZmlsZQ%3D%3D?line=1'>2</a>\u001b[0m count\n",
      "File \u001b[1;32mc:\\Users\\jadek\\anaconda3\\lib\\site-packages\\pandas\\core\\frame.py:3505\u001b[0m, in \u001b[0;36mDataFrame.__getitem__\u001b[1;34m(self, key)\u001b[0m\n\u001b[0;32m   3503\u001b[0m \u001b[39mif\u001b[39;00m \u001b[39mself\u001b[39m\u001b[39m.\u001b[39mcolumns\u001b[39m.\u001b[39mnlevels \u001b[39m>\u001b[39m \u001b[39m1\u001b[39m:\n\u001b[0;32m   3504\u001b[0m     \u001b[39mreturn\u001b[39;00m \u001b[39mself\u001b[39m\u001b[39m.\u001b[39m_getitem_multilevel(key)\n\u001b[1;32m-> 3505\u001b[0m indexer \u001b[39m=\u001b[39m \u001b[39mself\u001b[39;49m\u001b[39m.\u001b[39;49mcolumns\u001b[39m.\u001b[39;49mget_loc(key)\n\u001b[0;32m   3506\u001b[0m \u001b[39mif\u001b[39;00m is_integer(indexer):\n\u001b[0;32m   3507\u001b[0m     indexer \u001b[39m=\u001b[39m [indexer]\n",
      "File \u001b[1;32mc:\\Users\\jadek\\anaconda3\\lib\\site-packages\\pandas\\core\\indexes\\base.py:3623\u001b[0m, in \u001b[0;36mIndex.get_loc\u001b[1;34m(self, key, method, tolerance)\u001b[0m\n\u001b[0;32m   3621\u001b[0m     \u001b[39mreturn\u001b[39;00m \u001b[39mself\u001b[39m\u001b[39m.\u001b[39m_engine\u001b[39m.\u001b[39mget_loc(casted_key)\n\u001b[0;32m   3622\u001b[0m \u001b[39mexcept\u001b[39;00m \u001b[39mKeyError\u001b[39;00m \u001b[39mas\u001b[39;00m err:\n\u001b[1;32m-> 3623\u001b[0m     \u001b[39mraise\u001b[39;00m \u001b[39mKeyError\u001b[39;00m(key) \u001b[39mfrom\u001b[39;00m \u001b[39merr\u001b[39;00m\n\u001b[0;32m   3624\u001b[0m \u001b[39mexcept\u001b[39;00m \u001b[39mTypeError\u001b[39;00m:\n\u001b[0;32m   3625\u001b[0m     \u001b[39m# If we have a listlike key, _check_indexing_error will raise\u001b[39;00m\n\u001b[0;32m   3626\u001b[0m     \u001b[39m#  InvalidIndexError. Otherwise we fall through and re-raise\u001b[39;00m\n\u001b[0;32m   3627\u001b[0m     \u001b[39m#  the TypeError.\u001b[39;00m\n\u001b[0;32m   3628\u001b[0m     \u001b[39mself\u001b[39m\u001b[39m.\u001b[39m_check_indexing_error(key)\n",
      "\u001b[1;31mKeyError\u001b[0m: 'rating'"
     ]
    }
   ],
   "source": [
    "\n",
    "count = df.groupby('rating').count()['rating'].reset_index().sort_values(by=['rating'], ascending=False)\n",
    "count\n"
   ]
  },
  {
   "cell_type": "code",
   "execution_count": 56,
   "id": "c995759d",
   "metadata": {},
   "outputs": [],
   "source": [
    "sns.set(style=\"darkgrid\")\n",
    "sns.kdeplot(data=df['runtime'], shade=True)"
   ]
  },
  {
   "attachments": {},
   "cell_type": "markdown",
   "id": "5216e9b8",
   "metadata": {},
   "source": [
    "- It is observed that a good amount of movies have a run time of around 75-120 minutes.\n",
    "- Very few movies have a runtime of less than 50 minutes, or more than 200 minutes"
   ]
  },
  {
   "cell_type": "code",
   "execution_count": null,
   "id": "655dad84",
   "metadata": {},
   "outputs": [
    {
     "data": {
      "text/plain": [
       "count    6.979973e+06\n",
       "mean     1.160965e+02\n",
       "std      2.409290e+01\n",
       "min      1.000000e+00\n",
       "25%      1.000000e+02\n",
       "50%      1.130000e+02\n",
       "75%      1.280000e+02\n",
       "max      8.770000e+02\n",
       "Name: runtime, dtype: float64"
      ]
     },
     "execution_count": 61,
     "metadata": {},
     "output_type": "execute_result"
    }
   ],
   "source": [
    "df['runtime'].describe().T"
   ]
  },
  {
   "attachments": {},
   "cell_type": "markdown",
   "id": "7e49b984",
   "metadata": {},
   "source": [
    "# It is observed that there are outliers in the runtime column of the data set.\n",
    "- There are values which are above 877, and\n",
    "- Values as low as 1.0"
   ]
  },
  {
   "cell_type": "markdown",
   "id": "439cb63c",
   "metadata": {},
   "source": [
    "<a id=\"four\"></a>\n",
    "### 4. Data Engineering\n",
    "<a class=\"anchor\" id=\"1.1\"></a>\n",
    "<a href=#cont>Back to Table of Contents</a>\n",
    "\n",
    "---\n",
    "    \n",
    "| ⚡ Description: Data engineering ⚡ |\n",
    "| :--------------------------- |\n",
    "| In this section you are required to: clean the dataset, and possibly create new features - as identified in the EDA phase. |\n",
    "\n",
    "---"
   ]
  },
  {
   "cell_type": "code",
   "execution_count": null,
   "id": "ae27f70c",
   "metadata": {},
   "outputs": [],
   "source": [
    "#creating a copy of the df that will be used for creating content-based and collaborative models\n",
    "temp_df = df.copy()"
   ]
  },
  {
   "cell_type": "code",
   "execution_count": null,
   "id": "66f21c3f",
   "metadata": {},
   "outputs": [
    {
     "data": {
      "text/plain": [
       "movieId                0\n",
       "title                  0\n",
       "genres                 0\n",
       "title_cast       2604407\n",
       "director         2602688\n",
       "runtime          2653058\n",
       "budget           3152276\n",
       "plot_keywords    2610043\n",
       "userId                 0\n",
       "rating                 0\n",
       "timestamp              0\n",
       "dtype: int64"
      ]
     },
     "execution_count": 13,
     "metadata": {},
     "output_type": "execute_result"
    }
   ],
   "source": [
    "#checking for null values\n",
    "temp_df.isnull().sum()\n"
   ]
  },
  {
   "cell_type": "code",
   "execution_count": null,
   "id": "2f406655",
   "metadata": {},
   "outputs": [],
   "source": [
    "#removing null values\n",
    "temp_df.dropna(inplace=True)"
   ]
  },
  {
   "cell_type": "code",
   "execution_count": null,
   "id": "8cc35a0f",
   "metadata": {},
   "outputs": [
    {
     "data": {
      "text/plain": [
       "movieId          0\n",
       "title            0\n",
       "genres           0\n",
       "title_cast       0\n",
       "director         0\n",
       "runtime          0\n",
       "budget           0\n",
       "plot_keywords    0\n",
       "userId           0\n",
       "rating           0\n",
       "timestamp        0\n",
       "dtype: int64"
      ]
     },
     "execution_count": 15,
     "metadata": {},
     "output_type": "execute_result"
    }
   ],
   "source": [
    "#checking null values\n",
    "temp_df.isnull().sum()"
   ]
  },
  {
   "cell_type": "code",
   "execution_count": null,
   "id": "f4180d91",
   "metadata": {},
   "outputs": [
    {
     "data": {
      "text/html": [
       "<div>\n",
       "<style scoped>\n",
       "    .dataframe tbody tr th:only-of-type {\n",
       "        vertical-align: middle;\n",
       "    }\n",
       "\n",
       "    .dataframe tbody tr th {\n",
       "        vertical-align: top;\n",
       "    }\n",
       "\n",
       "    .dataframe thead th {\n",
       "        text-align: right;\n",
       "    }\n",
       "</style>\n",
       "<table border=\"1\" class=\"dataframe\">\n",
       "  <thead>\n",
       "    <tr style=\"text-align: right;\">\n",
       "      <th></th>\n",
       "      <th>movieId</th>\n",
       "      <th>title</th>\n",
       "      <th>genres</th>\n",
       "      <th>title_cast</th>\n",
       "      <th>director</th>\n",
       "      <th>runtime</th>\n",
       "      <th>budget</th>\n",
       "      <th>plot_keywords</th>\n",
       "      <th>userId</th>\n",
       "      <th>rating</th>\n",
       "      <th>timestamp</th>\n",
       "      <th>year</th>\n",
       "    </tr>\n",
       "  </thead>\n",
       "  <tbody>\n",
       "    <tr>\n",
       "      <th>0</th>\n",
       "      <td>1</td>\n",
       "      <td>Toy Story</td>\n",
       "      <td>Adventure|Animation|Children|Comedy|Fantasy</td>\n",
       "      <td>Tom Hanks|Tim Allen|Don Rickles|Jim Varney|Wal...</td>\n",
       "      <td>John Lasseter</td>\n",
       "      <td>81.0</td>\n",
       "      <td>$30,000,000</td>\n",
       "      <td>toy|rivalry|cowboy|cgi animation</td>\n",
       "      <td>158849</td>\n",
       "      <td>5.0</td>\n",
       "      <td>994716786</td>\n",
       "      <td>1995</td>\n",
       "    </tr>\n",
       "    <tr>\n",
       "      <th>1</th>\n",
       "      <td>1</td>\n",
       "      <td>Toy Story</td>\n",
       "      <td>Adventure|Animation|Children|Comedy|Fantasy</td>\n",
       "      <td>Tom Hanks|Tim Allen|Don Rickles|Jim Varney|Wal...</td>\n",
       "      <td>John Lasseter</td>\n",
       "      <td>81.0</td>\n",
       "      <td>$30,000,000</td>\n",
       "      <td>toy|rivalry|cowboy|cgi animation</td>\n",
       "      <td>97203</td>\n",
       "      <td>5.0</td>\n",
       "      <td>942683155</td>\n",
       "      <td>1995</td>\n",
       "    </tr>\n",
       "  </tbody>\n",
       "</table>\n",
       "</div>"
      ],
      "text/plain": [
       "   movieId      title                                       genres  \\\n",
       "0        1  Toy Story  Adventure|Animation|Children|Comedy|Fantasy   \n",
       "1        1  Toy Story  Adventure|Animation|Children|Comedy|Fantasy   \n",
       "\n",
       "                                          title_cast       director  runtime  \\\n",
       "0  Tom Hanks|Tim Allen|Don Rickles|Jim Varney|Wal...  John Lasseter     81.0   \n",
       "1  Tom Hanks|Tim Allen|Don Rickles|Jim Varney|Wal...  John Lasseter     81.0   \n",
       "\n",
       "        budget                     plot_keywords  userId  rating  timestamp  \\\n",
       "0  $30,000,000  toy|rivalry|cowboy|cgi animation  158849     5.0  994716786   \n",
       "1  $30,000,000  toy|rivalry|cowboy|cgi animation   97203     5.0  942683155   \n",
       "\n",
       "   year  \n",
       "0  1995  \n",
       "1  1995  "
      ]
     },
     "execution_count": 16,
     "metadata": {},
     "output_type": "execute_result"
    }
   ],
   "source": [
    "#Using regular expressions to find a year stored between parentheses\n",
    "#We specify the parantheses so we don't conflict with movies that have years in their titles\n",
    "temp_df['year'] = temp_df.title.str.extract('(\\(\\d\\d\\d\\d\\))',expand=False)\n",
    "#Removing the parentheses\n",
    "temp_df['year'] = temp_df.year.str.extract('(\\d\\d\\d\\d)',expand=False)\n",
    "#Removing the years from the 'title' column\n",
    "temp_df['title'] = temp_df.title.str.replace('(\\(\\d\\d\\d\\d\\))', '')\n",
    "#Applying the strip function to get rid of any ending whitespace characters that may have appeared\n",
    "temp_df['title'] = temp_df['title'].apply(lambda x: x.strip())\n",
    "\n",
    "temp_df.head(2)"
   ]
  },
  {
   "cell_type": "code",
   "execution_count": null,
   "id": "0430680a",
   "metadata": {},
   "outputs": [
    {
     "data": {
      "text/html": [
       "<div>\n",
       "<style scoped>\n",
       "    .dataframe tbody tr th:only-of-type {\n",
       "        vertical-align: middle;\n",
       "    }\n",
       "\n",
       "    .dataframe tbody tr th {\n",
       "        vertical-align: top;\n",
       "    }\n",
       "\n",
       "    .dataframe thead th {\n",
       "        text-align: right;\n",
       "    }\n",
       "</style>\n",
       "<table border=\"1\" class=\"dataframe\">\n",
       "  <thead>\n",
       "    <tr style=\"text-align: right;\">\n",
       "      <th></th>\n",
       "      <th>movieId</th>\n",
       "      <th>title</th>\n",
       "      <th>genres</th>\n",
       "      <th>title_cast</th>\n",
       "      <th>director</th>\n",
       "      <th>runtime</th>\n",
       "      <th>budget</th>\n",
       "      <th>plot_keywords</th>\n",
       "      <th>userId</th>\n",
       "      <th>rating</th>\n",
       "      <th>timestamp</th>\n",
       "      <th>year</th>\n",
       "      <th>clean_title</th>\n",
       "    </tr>\n",
       "  </thead>\n",
       "  <tbody>\n",
       "    <tr>\n",
       "      <th>0</th>\n",
       "      <td>1</td>\n",
       "      <td>Toy Story</td>\n",
       "      <td>Adventure|Animation|Children|Comedy|Fantasy</td>\n",
       "      <td>Tom Hanks|Tim Allen|Don Rickles|Jim Varney|Wal...</td>\n",
       "      <td>John Lasseter</td>\n",
       "      <td>81.0</td>\n",
       "      <td>$30,000,000</td>\n",
       "      <td>toy|rivalry|cowboy|cgi animation</td>\n",
       "      <td>158849</td>\n",
       "      <td>5.0</td>\n",
       "      <td>994716786</td>\n",
       "      <td>1995</td>\n",
       "      <td>Toy Story</td>\n",
       "    </tr>\n",
       "    <tr>\n",
       "      <th>1</th>\n",
       "      <td>1</td>\n",
       "      <td>Toy Story</td>\n",
       "      <td>Adventure|Animation|Children|Comedy|Fantasy</td>\n",
       "      <td>Tom Hanks|Tim Allen|Don Rickles|Jim Varney|Wal...</td>\n",
       "      <td>John Lasseter</td>\n",
       "      <td>81.0</td>\n",
       "      <td>$30,000,000</td>\n",
       "      <td>toy|rivalry|cowboy|cgi animation</td>\n",
       "      <td>97203</td>\n",
       "      <td>5.0</td>\n",
       "      <td>942683155</td>\n",
       "      <td>1995</td>\n",
       "      <td>Toy Story</td>\n",
       "    </tr>\n",
       "    <tr>\n",
       "      <th>2</th>\n",
       "      <td>1</td>\n",
       "      <td>Toy Story</td>\n",
       "      <td>Adventure|Animation|Children|Comedy|Fantasy</td>\n",
       "      <td>Tom Hanks|Tim Allen|Don Rickles|Jim Varney|Wal...</td>\n",
       "      <td>John Lasseter</td>\n",
       "      <td>81.0</td>\n",
       "      <td>$30,000,000</td>\n",
       "      <td>toy|rivalry|cowboy|cgi animation</td>\n",
       "      <td>161871</td>\n",
       "      <td>3.0</td>\n",
       "      <td>833104576</td>\n",
       "      <td>1995</td>\n",
       "      <td>Toy Story</td>\n",
       "    </tr>\n",
       "    <tr>\n",
       "      <th>3</th>\n",
       "      <td>1</td>\n",
       "      <td>Toy Story</td>\n",
       "      <td>Adventure|Animation|Children|Comedy|Fantasy</td>\n",
       "      <td>Tom Hanks|Tim Allen|Don Rickles|Jim Varney|Wal...</td>\n",
       "      <td>John Lasseter</td>\n",
       "      <td>81.0</td>\n",
       "      <td>$30,000,000</td>\n",
       "      <td>toy|rivalry|cowboy|cgi animation</td>\n",
       "      <td>45117</td>\n",
       "      <td>4.0</td>\n",
       "      <td>1442256969</td>\n",
       "      <td>1995</td>\n",
       "      <td>Toy Story</td>\n",
       "    </tr>\n",
       "    <tr>\n",
       "      <th>4</th>\n",
       "      <td>1</td>\n",
       "      <td>Toy Story</td>\n",
       "      <td>Adventure|Animation|Children|Comedy|Fantasy</td>\n",
       "      <td>Tom Hanks|Tim Allen|Don Rickles|Jim Varney|Wal...</td>\n",
       "      <td>John Lasseter</td>\n",
       "      <td>81.0</td>\n",
       "      <td>$30,000,000</td>\n",
       "      <td>toy|rivalry|cowboy|cgi animation</td>\n",
       "      <td>27431</td>\n",
       "      <td>5.0</td>\n",
       "      <td>849667827</td>\n",
       "      <td>1995</td>\n",
       "      <td>Toy Story</td>\n",
       "    </tr>\n",
       "  </tbody>\n",
       "</table>\n",
       "</div>"
      ],
      "text/plain": [
       "   movieId      title                                       genres  \\\n",
       "0        1  Toy Story  Adventure|Animation|Children|Comedy|Fantasy   \n",
       "1        1  Toy Story  Adventure|Animation|Children|Comedy|Fantasy   \n",
       "2        1  Toy Story  Adventure|Animation|Children|Comedy|Fantasy   \n",
       "3        1  Toy Story  Adventure|Animation|Children|Comedy|Fantasy   \n",
       "4        1  Toy Story  Adventure|Animation|Children|Comedy|Fantasy   \n",
       "\n",
       "                                          title_cast       director  runtime  \\\n",
       "0  Tom Hanks|Tim Allen|Don Rickles|Jim Varney|Wal...  John Lasseter     81.0   \n",
       "1  Tom Hanks|Tim Allen|Don Rickles|Jim Varney|Wal...  John Lasseter     81.0   \n",
       "2  Tom Hanks|Tim Allen|Don Rickles|Jim Varney|Wal...  John Lasseter     81.0   \n",
       "3  Tom Hanks|Tim Allen|Don Rickles|Jim Varney|Wal...  John Lasseter     81.0   \n",
       "4  Tom Hanks|Tim Allen|Don Rickles|Jim Varney|Wal...  John Lasseter     81.0   \n",
       "\n",
       "        budget                     plot_keywords  userId  rating   timestamp  \\\n",
       "0  $30,000,000  toy|rivalry|cowboy|cgi animation  158849     5.0   994716786   \n",
       "1  $30,000,000  toy|rivalry|cowboy|cgi animation   97203     5.0   942683155   \n",
       "2  $30,000,000  toy|rivalry|cowboy|cgi animation  161871     3.0   833104576   \n",
       "3  $30,000,000  toy|rivalry|cowboy|cgi animation   45117     4.0  1442256969   \n",
       "4  $30,000,000  toy|rivalry|cowboy|cgi animation   27431     5.0   849667827   \n",
       "\n",
       "   year clean_title  \n",
       "0  1995   Toy Story  \n",
       "1  1995   Toy Story  \n",
       "2  1995   Toy Story  \n",
       "3  1995   Toy Story  \n",
       "4  1995   Toy Story  "
      ]
     },
     "execution_count": 17,
     "metadata": {},
     "output_type": "execute_result"
    }
   ],
   "source": [
    "# Using regex to clean the movie titles and storing it in the new columns\n",
    "def clean_titles(title):\n",
    "    return re.sub(\"[^a-zA-Z0-9 ]\", \" \", title)\n",
    "\n",
    "temp_df[\"clean_title\"] = temp_df[\"title\"].apply(clean_titles)\n",
    "temp_df.head()"
   ]
  },
  {
   "cell_type": "code",
   "execution_count": null,
   "id": "ffbee292",
   "metadata": {},
   "outputs": [],
   "source": [
    "vectorizer = TfidfVectorizer(ngram_range=(1,2))\n",
    "tfidf = vectorizer.fit_transform(temp_df[\"clean_title\"])"
   ]
  },
  {
   "cell_type": "code",
   "execution_count": null,
   "id": "3389e1ed",
   "metadata": {},
   "outputs": [
    {
     "data": {
      "text/html": [
       "<div>\n",
       "<style scoped>\n",
       "    .dataframe tbody tr th:only-of-type {\n",
       "        vertical-align: middle;\n",
       "    }\n",
       "\n",
       "    .dataframe tbody tr th {\n",
       "        vertical-align: top;\n",
       "    }\n",
       "\n",
       "    .dataframe thead th {\n",
       "        text-align: right;\n",
       "    }\n",
       "</style>\n",
       "<table border=\"1\" class=\"dataframe\">\n",
       "  <thead>\n",
       "    <tr style=\"text-align: right;\">\n",
       "      <th></th>\n",
       "      <th>movieId</th>\n",
       "      <th>title</th>\n",
       "      <th>genres</th>\n",
       "      <th>title_cast</th>\n",
       "      <th>director</th>\n",
       "      <th>runtime</th>\n",
       "      <th>budget</th>\n",
       "      <th>plot_keywords</th>\n",
       "      <th>userId</th>\n",
       "      <th>rating</th>\n",
       "      <th>timestamp</th>\n",
       "      <th>year</th>\n",
       "      <th>clean_title</th>\n",
       "    </tr>\n",
       "  </thead>\n",
       "  <tbody>\n",
       "    <tr>\n",
       "      <th>0</th>\n",
       "      <td>1</td>\n",
       "      <td>Toy Story</td>\n",
       "      <td>[Adventure, Animation, Children, Comedy, Fantasy]</td>\n",
       "      <td>Tom Hanks|Tim Allen|Don Rickles|Jim Varney|Wal...</td>\n",
       "      <td>John Lasseter</td>\n",
       "      <td>81.0</td>\n",
       "      <td>$30,000,000</td>\n",
       "      <td>[toy, rivalry, cowboy, cgi animation]</td>\n",
       "      <td>158849</td>\n",
       "      <td>5.0</td>\n",
       "      <td>994716786</td>\n",
       "      <td>1995</td>\n",
       "      <td>Toy Story</td>\n",
       "    </tr>\n",
       "    <tr>\n",
       "      <th>1</th>\n",
       "      <td>1</td>\n",
       "      <td>Toy Story</td>\n",
       "      <td>[Adventure, Animation, Children, Comedy, Fantasy]</td>\n",
       "      <td>Tom Hanks|Tim Allen|Don Rickles|Jim Varney|Wal...</td>\n",
       "      <td>John Lasseter</td>\n",
       "      <td>81.0</td>\n",
       "      <td>$30,000,000</td>\n",
       "      <td>[toy, rivalry, cowboy, cgi animation]</td>\n",
       "      <td>97203</td>\n",
       "      <td>5.0</td>\n",
       "      <td>942683155</td>\n",
       "      <td>1995</td>\n",
       "      <td>Toy Story</td>\n",
       "    </tr>\n",
       "  </tbody>\n",
       "</table>\n",
       "</div>"
      ],
      "text/plain": [
       "   movieId      title                                             genres  \\\n",
       "0        1  Toy Story  [Adventure, Animation, Children, Comedy, Fantasy]   \n",
       "1        1  Toy Story  [Adventure, Animation, Children, Comedy, Fantasy]   \n",
       "\n",
       "                                          title_cast       director  runtime  \\\n",
       "0  Tom Hanks|Tim Allen|Don Rickles|Jim Varney|Wal...  John Lasseter     81.0   \n",
       "1  Tom Hanks|Tim Allen|Don Rickles|Jim Varney|Wal...  John Lasseter     81.0   \n",
       "\n",
       "        budget                          plot_keywords  userId  rating  \\\n",
       "0  $30,000,000  [toy, rivalry, cowboy, cgi animation]  158849     5.0   \n",
       "1  $30,000,000  [toy, rivalry, cowboy, cgi animation]   97203     5.0   \n",
       "\n",
       "   timestamp  year clean_title  \n",
       "0  994716786  1995   Toy Story  \n",
       "1  942683155  1995   Toy Story  "
      ]
     },
     "execution_count": 19,
     "metadata": {},
     "output_type": "execute_result"
    }
   ],
   "source": [
    "# Removing | from appropriate columns\n",
    "temp_df.genres = temp_df.genres.apply(lambda x: x.split('|'))\n",
    "temp_df.plot_keywords = temp_df.plot_keywords.apply(lambda x: x.split('|'))\n",
    "temp_df.head(2)"
   ]
  },
  {
   "attachments": {},
   "cell_type": "markdown",
   "id": "9a712722",
   "metadata": {},
   "source": [
    "Creating a copy of the temp df to use for the content_based model and dropping columns not needed for a content based model"
   ]
  },
  {
   "cell_type": "code",
   "execution_count": null,
   "id": "56cf96f8",
   "metadata": {},
   "outputs": [],
   "source": [
    "content_df = pd.DataFrame(temp_df[['movieId', 'genres', 'title_cast', 'director', 'plot_keywords','userId', 'year', 'clean_title','rating']],columns=['movieId', 'genres', 'title_cast', 'director', 'plot_keywords','userId', 'year', 'clean_title','rating'])"
   ]
  },
  {
   "cell_type": "code",
   "execution_count": null,
   "id": "6fed86e4",
   "metadata": {},
   "outputs": [
    {
     "data": {
      "text/html": [
       "<div>\n",
       "<style scoped>\n",
       "    .dataframe tbody tr th:only-of-type {\n",
       "        vertical-align: middle;\n",
       "    }\n",
       "\n",
       "    .dataframe tbody tr th {\n",
       "        vertical-align: top;\n",
       "    }\n",
       "\n",
       "    .dataframe thead th {\n",
       "        text-align: right;\n",
       "    }\n",
       "</style>\n",
       "<table border=\"1\" class=\"dataframe\">\n",
       "  <thead>\n",
       "    <tr style=\"text-align: right;\">\n",
       "      <th></th>\n",
       "      <th>movieId</th>\n",
       "      <th>genres</th>\n",
       "      <th>title_cast</th>\n",
       "      <th>director</th>\n",
       "      <th>plot_keywords</th>\n",
       "      <th>userId</th>\n",
       "      <th>year</th>\n",
       "      <th>clean_title</th>\n",
       "      <th>rating</th>\n",
       "    </tr>\n",
       "  </thead>\n",
       "  <tbody>\n",
       "    <tr>\n",
       "      <th>0</th>\n",
       "      <td>1</td>\n",
       "      <td>[Adventure, Animation, Children, Comedy, Fantasy]</td>\n",
       "      <td>Tom Hanks|Tim Allen|Don Rickles|Jim Varney|Wal...</td>\n",
       "      <td>John Lasseter</td>\n",
       "      <td>[toy, rivalry, cowboy, cgi animation]</td>\n",
       "      <td>158849</td>\n",
       "      <td>1995</td>\n",
       "      <td>Toy Story</td>\n",
       "      <td>5.0</td>\n",
       "    </tr>\n",
       "    <tr>\n",
       "      <th>1</th>\n",
       "      <td>1</td>\n",
       "      <td>[Adventure, Animation, Children, Comedy, Fantasy]</td>\n",
       "      <td>Tom Hanks|Tim Allen|Don Rickles|Jim Varney|Wal...</td>\n",
       "      <td>John Lasseter</td>\n",
       "      <td>[toy, rivalry, cowboy, cgi animation]</td>\n",
       "      <td>97203</td>\n",
       "      <td>1995</td>\n",
       "      <td>Toy Story</td>\n",
       "      <td>5.0</td>\n",
       "    </tr>\n",
       "  </tbody>\n",
       "</table>\n",
       "</div>"
      ],
      "text/plain": [
       "   movieId                                             genres  \\\n",
       "0        1  [Adventure, Animation, Children, Comedy, Fantasy]   \n",
       "1        1  [Adventure, Animation, Children, Comedy, Fantasy]   \n",
       "\n",
       "                                          title_cast       director  \\\n",
       "0  Tom Hanks|Tim Allen|Don Rickles|Jim Varney|Wal...  John Lasseter   \n",
       "1  Tom Hanks|Tim Allen|Don Rickles|Jim Varney|Wal...  John Lasseter   \n",
       "\n",
       "                           plot_keywords  userId  year clean_title  rating  \n",
       "0  [toy, rivalry, cowboy, cgi animation]  158849  1995   Toy Story     5.0  \n",
       "1  [toy, rivalry, cowboy, cgi animation]   97203  1995   Toy Story     5.0  "
      ]
     },
     "execution_count": 23,
     "metadata": {},
     "output_type": "execute_result"
    }
   ],
   "source": [
    "content_df.head(2)"
   ]
  },
  {
   "cell_type": "code",
   "execution_count": null,
   "id": "e8ed4ece",
   "metadata": {},
   "outputs": [],
   "source": [
    "collab_df = pd.DataFrame(temp_df[['movieId', 'userId', 'clean_title','rating']],columns=['movieId', 'userId', 'clean_title','rating'])"
   ]
  },
  {
   "cell_type": "code",
   "execution_count": null,
   "id": "4188cbb1",
   "metadata": {},
   "outputs": [
    {
     "data": {
      "text/html": [
       "<div>\n",
       "<style scoped>\n",
       "    .dataframe tbody tr th:only-of-type {\n",
       "        vertical-align: middle;\n",
       "    }\n",
       "\n",
       "    .dataframe tbody tr th {\n",
       "        vertical-align: top;\n",
       "    }\n",
       "\n",
       "    .dataframe thead th {\n",
       "        text-align: right;\n",
       "    }\n",
       "</style>\n",
       "<table border=\"1\" class=\"dataframe\">\n",
       "  <thead>\n",
       "    <tr style=\"text-align: right;\">\n",
       "      <th></th>\n",
       "      <th>movieId</th>\n",
       "      <th>userId</th>\n",
       "      <th>clean_title</th>\n",
       "      <th>rating</th>\n",
       "    </tr>\n",
       "  </thead>\n",
       "  <tbody>\n",
       "    <tr>\n",
       "      <th>0</th>\n",
       "      <td>1</td>\n",
       "      <td>158849</td>\n",
       "      <td>Toy Story</td>\n",
       "      <td>5.0</td>\n",
       "    </tr>\n",
       "    <tr>\n",
       "      <th>1</th>\n",
       "      <td>1</td>\n",
       "      <td>97203</td>\n",
       "      <td>Toy Story</td>\n",
       "      <td>5.0</td>\n",
       "    </tr>\n",
       "  </tbody>\n",
       "</table>\n",
       "</div>"
      ],
      "text/plain": [
       "   movieId  userId clean_title  rating\n",
       "0        1  158849   Toy Story     5.0\n",
       "1        1   97203   Toy Story     5.0"
      ]
     },
     "execution_count": 25,
     "metadata": {},
     "output_type": "execute_result"
    }
   ],
   "source": [
    "collab_df.head(2)"
   ]
  },
  {
   "cell_type": "markdown",
   "id": "c5904a35",
   "metadata": {},
   "source": [
    "<a id=\"five\"></a>\n",
    "### 5. Modeling\n",
    "<a class=\"anchor\" id=\"1.1\"></a>\n",
    "<a href=#cont>Back to Table of Contents</a>\n",
    "\n",
    "---\n",
    "    \n",
    "| ⚡ Description: Modeling ⚡ |\n",
    "| :--------------------------- |\n",
    "| In this section, you are required to create one or more unsupervised models that are able to accurately predict how a user will  rate a movie they have not viewed based on historical preferences. |\n",
    "\n",
    "---"
   ]
  },
  {
   "cell_type": "code",
   "execution_count": null,
   "id": "fd1c17a1",
   "metadata": {},
   "outputs": [
    {
     "data": {
      "text/html": [
       "<div>\n",
       "<style scoped>\n",
       "    .dataframe tbody tr th:only-of-type {\n",
       "        vertical-align: middle;\n",
       "    }\n",
       "\n",
       "    .dataframe tbody tr th {\n",
       "        vertical-align: top;\n",
       "    }\n",
       "\n",
       "    .dataframe thead th {\n",
       "        text-align: right;\n",
       "    }\n",
       "</style>\n",
       "<table border=\"1\" class=\"dataframe\">\n",
       "  <thead>\n",
       "    <tr style=\"text-align: right;\">\n",
       "      <th></th>\n",
       "      <th>userId</th>\n",
       "      <th>movieId</th>\n",
       "      <th>rating</th>\n",
       "      <th>timestamp</th>\n",
       "    </tr>\n",
       "  </thead>\n",
       "  <tbody>\n",
       "    <tr>\n",
       "      <th>0</th>\n",
       "      <td>5163</td>\n",
       "      <td>57669</td>\n",
       "      <td>4.0</td>\n",
       "      <td>1518349992</td>\n",
       "    </tr>\n",
       "    <tr>\n",
       "      <th>1</th>\n",
       "      <td>106343</td>\n",
       "      <td>5</td>\n",
       "      <td>4.5</td>\n",
       "      <td>1206238739</td>\n",
       "    </tr>\n",
       "    <tr>\n",
       "      <th>2</th>\n",
       "      <td>146790</td>\n",
       "      <td>5459</td>\n",
       "      <td>5.0</td>\n",
       "      <td>1076215539</td>\n",
       "    </tr>\n",
       "    <tr>\n",
       "      <th>3</th>\n",
       "      <td>106362</td>\n",
       "      <td>32296</td>\n",
       "      <td>2.0</td>\n",
       "      <td>1423042565</td>\n",
       "    </tr>\n",
       "    <tr>\n",
       "      <th>4</th>\n",
       "      <td>9041</td>\n",
       "      <td>366</td>\n",
       "      <td>3.0</td>\n",
       "      <td>833375837</td>\n",
       "    </tr>\n",
       "  </tbody>\n",
       "</table>\n",
       "</div>"
      ],
      "text/plain": [
       "   userId  movieId  rating   timestamp\n",
       "0    5163    57669     4.0  1518349992\n",
       "1  106343        5     4.5  1206238739\n",
       "2  146790     5459     5.0  1076215539\n",
       "3  106362    32296     2.0  1423042565\n",
       "4    9041      366     3.0   833375837"
      ]
     },
     "execution_count": 11,
     "metadata": {},
     "output_type": "execute_result"
    }
   ],
   "source": [
    "reader = Reader(rating_scale=(0.5, 5))\n",
    "train.head()"
   ]
  },
  {
   "cell_type": "code",
   "execution_count": null,
   "id": "f6a38f4f",
   "metadata": {},
   "outputs": [],
   "source": [
    "data = Dataset.load_from_df(train[['userId', 'movieId', 'rating']], reader)\n",
    "#data.split(n_folds=5)\n",
    "trainset, testset = train_test_split(data, testb_size=.25, random_state=42)"
   ]
  },
  {
   "cell_type": "code",
   "execution_count": null,
   "id": "9cd01998",
   "metadata": {},
   "outputs": [
    {
     "data": {
      "text/plain": [
       "229"
      ]
     },
     "execution_count": 15,
     "metadata": {},
     "output_type": "execute_result"
    }
   ],
   "source": [
    "gc.collect()"
   ]
  },
  {
   "cell_type": "code",
   "execution_count": null,
   "id": "84b1ede5",
   "metadata": {},
   "outputs": [
    {
     "ename": "MemoryError",
     "evalue": "Unable to allocate 7.38 GiB for an array with shape (44513, 44513) and data type int32",
     "output_type": "error",
     "traceback": [
      "\u001b[1;31m---------------------------------------------------------------------------\u001b[0m",
      "\u001b[1;31mMemoryError\u001b[0m                               Traceback (most recent call last)",
      "\u001b[1;32mc:\\Users\\jadek\\OneDrive\\Documents\\GitHub\\Unsupervised-Sprint-2207FTDS-Team-JM5\\Starter_Notebook.ipynb Cell 86\u001b[0m in \u001b[0;36m<cell line: 2>\u001b[1;34m()\u001b[0m\n\u001b[0;32m      <a href='vscode-notebook-cell:/c%3A/Users/jadek/OneDrive/Documents/GitHub/Unsupervised-Sprint-2207FTDS-Team-JM5/Starter_Notebook.ipynb#Y161sZmlsZQ%3D%3D?line=0'>1</a>\u001b[0m slo_model \u001b[39m=\u001b[39m SlopeOne()\n\u001b[1;32m----> <a href='vscode-notebook-cell:/c%3A/Users/jadek/OneDrive/Documents/GitHub/Unsupervised-Sprint-2207FTDS-Team-JM5/Starter_Notebook.ipynb#Y161sZmlsZQ%3D%3D?line=1'>2</a>\u001b[0m slo_model\u001b[39m.\u001b[39;49mfit(trainset)\n\u001b[0;32m      <a href='vscode-notebook-cell:/c%3A/Users/jadek/OneDrive/Documents/GitHub/Unsupervised-Sprint-2207FTDS-Team-JM5/Starter_Notebook.ipynb#Y161sZmlsZQ%3D%3D?line=2'>3</a>\u001b[0m slo_predictions \u001b[39m=\u001b[39m slo_model\u001b[39m.\u001b[39mtest(testset)\n\u001b[0;32m      <a href='vscode-notebook-cell:/c%3A/Users/jadek/OneDrive/Documents/GitHub/Unsupervised-Sprint-2207FTDS-Team-JM5/Starter_Notebook.ipynb#Y161sZmlsZQ%3D%3D?line=3'>4</a>\u001b[0m slo_rmse\u001b[39m=\u001b[39maccuracy\u001b[39m.\u001b[39mrmse(slo_predictions)\n",
      "File \u001b[1;32mc:\\Users\\jadek\\anaconda3\\lib\\site-packages\\surprise\\prediction_algorithms\\slope_one.pyx:57\u001b[0m, in \u001b[0;36msurprise.prediction_algorithms.slope_one.SlopeOne.fit\u001b[1;34m()\u001b[0m\n",
      "\u001b[1;31mMemoryError\u001b[0m: Unable to allocate 7.38 GiB for an array with shape (44513, 44513) and data type int32"
     ]
    }
   ],
   "source": [
    "slo_model = SlopeOne()\n",
    "slo_model.fit(trainset)\n",
    "slo_predictions = slo_model.test(testset)\n",
    "slo_rmse=accuracy.rmse(slo_predictions)"
   ]
  },
  {
   "cell_type": "code",
   "execution_count": null,
   "id": "1e70102a",
   "metadata": {},
   "outputs": [
    {
     "name": "stdout",
     "output_type": "stream",
     "text": [
      "Processing epoch 0\n",
      "Processing epoch 1\n",
      "Processing epoch 2\n",
      "Processing epoch 3\n",
      "Processing epoch 4\n",
      "Processing epoch 5\n",
      "Processing epoch 6\n",
      "Processing epoch 7\n"
     ]
    },
    {
     "ename": "KeyboardInterrupt",
     "evalue": "",
     "output_type": "error",
     "traceback": [
      "\u001b[1;31m---------------------------------------------------------------------------\u001b[0m",
      "\u001b[1;31mKeyboardInterrupt\u001b[0m                         Traceback (most recent call last)",
      "\u001b[1;32mc:\\Users\\jadek\\OneDrive\\Documents\\GitHub\\Unsupervised-Sprint-2207FTDS-Team-JM5\\Starter_Notebook.ipynb Cell 87\u001b[0m in \u001b[0;36m<cell line: 2>\u001b[1;34m()\u001b[0m\n\u001b[0;32m      <a href='vscode-notebook-cell:/c%3A/Users/jadek/OneDrive/Documents/GitHub/Unsupervised-Sprint-2207FTDS-Team-JM5/Starter_Notebook.ipynb#Y162sZmlsZQ%3D%3D?line=0'>1</a>\u001b[0m nmf_model \u001b[39m=\u001b[39m NMF(n_epochs\u001b[39m=\u001b[39m\u001b[39m50\u001b[39m, n_factors\u001b[39m=\u001b[39m\u001b[39m200\u001b[39m, random_state\u001b[39m=\u001b[39m\u001b[39m42\u001b[39m,verbose\u001b[39m=\u001b[39m\u001b[39mTrue\u001b[39;00m)\n\u001b[1;32m----> <a href='vscode-notebook-cell:/c%3A/Users/jadek/OneDrive/Documents/GitHub/Unsupervised-Sprint-2207FTDS-Team-JM5/Starter_Notebook.ipynb#Y162sZmlsZQ%3D%3D?line=1'>2</a>\u001b[0m nmf_model\u001b[39m.\u001b[39;49mfit(trainset)\n\u001b[0;32m      <a href='vscode-notebook-cell:/c%3A/Users/jadek/OneDrive/Documents/GitHub/Unsupervised-Sprint-2207FTDS-Team-JM5/Starter_Notebook.ipynb#Y162sZmlsZQ%3D%3D?line=2'>3</a>\u001b[0m nmf_predictions \u001b[39m=\u001b[39mnmf_model\u001b[39m.\u001b[39mtest(testset)\n\u001b[0;32m      <a href='vscode-notebook-cell:/c%3A/Users/jadek/OneDrive/Documents/GitHub/Unsupervised-Sprint-2207FTDS-Team-JM5/Starter_Notebook.ipynb#Y162sZmlsZQ%3D%3D?line=3'>4</a>\u001b[0m nmf_rmse \u001b[39m=\u001b[39m accuracy\u001b[39m.\u001b[39mrmse(nmf_predictions)\n",
      "File \u001b[1;32mc:\\Users\\jadek\\anaconda3\\lib\\site-packages\\surprise\\prediction_algorithms\\matrix_factorization.pyx:623\u001b[0m, in \u001b[0;36msurprise.prediction_algorithms.matrix_factorization.NMF.fit\u001b[1;34m()\u001b[0m\n",
      "File \u001b[1;32mc:\\Users\\jadek\\anaconda3\\lib\\site-packages\\surprise\\prediction_algorithms\\matrix_factorization.pyx:678\u001b[0m, in \u001b[0;36msurprise.prediction_algorithms.matrix_factorization.NMF.sgd\u001b[1;34m()\u001b[0m\n",
      "File \u001b[1;32mc:\\Users\\jadek\\anaconda3\\lib\\site-packages\\surprise\\trainset.py:189\u001b[0m, in \u001b[0;36mTrainset.all_ratings\u001b[1;34m(self)\u001b[0m\n\u001b[0;32m    187\u001b[0m \u001b[39mfor\u001b[39;00m u, u_ratings \u001b[39min\u001b[39;00m iteritems(\u001b[39mself\u001b[39m\u001b[39m.\u001b[39mur):\n\u001b[0;32m    188\u001b[0m     \u001b[39mfor\u001b[39;00m i, r \u001b[39min\u001b[39;00m u_ratings:\n\u001b[1;32m--> 189\u001b[0m         \u001b[39myield\u001b[39;00m u, i, r\n",
      "\u001b[1;31mKeyboardInterrupt\u001b[0m: "
     ]
    }
   ],
   "source": [
    "'''nmf_model = NMF(n_epochs=50, n_factors=200, random_state=42,verbose=True)\n",
    "nmf_model.fit(trainset)\n",
    "nmf_predictions =nmf_model.test(testset)\n",
    "nmf_rmse = accuracy.rmse(nmf_predictions)\n",
    "'''"
   ]
  },
  {
   "cell_type": "code",
   "execution_count": null,
   "id": "6e8087f9",
   "metadata": {},
   "outputs": [],
   "source": []
  },
  {
   "cell_type": "markdown",
   "id": "a0306bf6",
   "metadata": {},
   "source": [
    "<a id=\"six\"></a>\n",
    "### 6. Model Performance\n",
    "<a class=\"anchor\" id=\"1.1\"></a>\n",
    "<a href=#cont>Back to Table of Contents</a>\n",
    "\n",
    "---\n",
    "    \n",
    "| ⚡ Description: Model performance ⚡ |\n",
    "| :--------------------------- |\n",
    "| In this section you are required to compare the relative performance of the various trained ML models and comment on what model is the best and why. |\n",
    "\n",
    "---"
   ]
  },
  {
   "cell_type": "code",
   "execution_count": null,
   "id": "bc1cdbb0",
   "metadata": {},
   "outputs": [],
   "source": []
  },
  {
   "cell_type": "code",
   "execution_count": null,
   "id": "64be10a8",
   "metadata": {},
   "outputs": [],
   "source": []
  },
  {
   "attachments": {},
   "cell_type": "markdown",
   "id": "c8295d39",
   "metadata": {},
   "source": [
    " <a id=\"seven\"></a>\n",
    "### 7. Conclusion\n",
    "<a href=#cont>Back to Table of Contents</a>"
   ]
  },
  {
   "cell_type": "code",
   "execution_count": null,
   "id": "46512c56",
   "metadata": {},
   "outputs": [],
   "source": []
  },
  {
   "attachments": {},
   "cell_type": "markdown",
   "id": "b462d3f8",
   "metadata": {},
   "source": [
    " <a id=\"eight\"></a>\n",
    "### 8. Resources\n",
    "<a href=#cont>Back to Table of Contents</a>"
   ]
  },
  {
   "attachments": {},
   "cell_type": "markdown",
   "id": "95be85ba",
   "metadata": {},
   "source": [
    "- https://www.enjoyalgorithms.com/blog/recommender-system-using-machine-learning\n",
    "- https://www.datacamp.com/tutorial/recommender-systems-python\n",
    "- https://towardsdatascience.com/introduction-to-recommender-systems-6c66cf15ada\n",
    "- https://realpython.com/build-recommendation-engine-collaborative-filtering/ (Models)"
   ]
  },
  {
   "cell_type": "markdown",
   "id": "a0ce9126",
   "metadata": {},
   "source": []
  }
 ],
 "metadata": {
  "kernelspec": {
   "display_name": "base",
   "language": "python",
   "name": "python3"
  },
  "language_info": {
   "codemirror_mode": {
    "name": "ipython",
    "version": 3
   },
   "file_extension": ".py",
   "mimetype": "text/x-python",
   "name": "python",
   "nbconvert_exporter": "python",
   "pygments_lexer": "ipython3",
   "version": "3.9.12"
  },
  "vscode": {
   "interpreter": {
    "hash": "a660e90fc14f93d4b814f84b5db357fa9b85606e5e97f25a253224fccd5066ac"
   }
  }
 },
 "nbformat": 4,
 "nbformat_minor": 5
}
